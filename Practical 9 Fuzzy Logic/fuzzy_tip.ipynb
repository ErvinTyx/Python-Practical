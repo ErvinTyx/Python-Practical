{
 "cells": [
  {
   "cell_type": "markdown",
   "metadata": {},
   "source": [
    "# Fuzzy Logic\n",
    "\n"
   ]
  },
  {
   "cell_type": "code",
   "execution_count": null,
   "metadata": {},
   "outputs": [],
   "source": [
    "import numpy as np\n",
    "import skfuzzy as fuzz\n",
    "import matplotlib.pyplot as plt\n",
    "\n",
    "userInput = [[],[]]\n",
    "notValid = \"\\tPlease enter on a scale of 0 to 10.\"\n",
    "invalid = \"\\tPlease enter number only.\"\n"
   ]
  },
  {
   "cell_type": "code",
   "execution_count": null,
   "metadata": {},
   "outputs": [],
   "source": [
    "# Prompt user a few questions\n",
    "print (\"Q1. How do you rate the food?\")\n",
    "answer = -1\n",
    "\n",
    "while 0 > answer: #or 10 < answer:\n",
    "    try:\n",
    "        answer = float(input(\"\\tAnswer >>  \"))\n",
    "    except ValueError:\n",
    "        print (invalid)\n",
    "    if 0 > answer or 10 < answer:\n",
    "        print (notValid)\n",
    "userInput[0] = answer\n"
   ]
  },
  {
   "cell_type": "code",
   "execution_count": null,
   "metadata": {},
   "outputs": [],
   "source": [
    "### print (\"How do you rate the service?\")\n",
    "answer = -1\n",
    "while 0 > answer : #or 10 < answer:\n",
    "    try:\n",
    "        answer = float(input(\"\\tAnswer >>  \"))\n",
    "    except ValueError:\n",
    "        print (invalid)\n",
    "    if 0 > answer or 10 < answer:\n",
    "        print (notValid)\n",
    "userInput[1] = answer"
   ]
  },
  {
   "cell_type": "code",
   "execution_count": null,
   "metadata": {},
   "outputs": [],
   "source": [
    "# generate universe variables\n",
    "#   *Quality and service on subjective ranges [0,10]\n",
    "#   *Tip has a range of [0,25] in units of percentage points\n",
    "x_qual = np.arange(0,11,1)\n",
    "x_serv = np.arange(0,11,1)\n",
    "x_tip = np.arange(0,26,1)"
   ]
  },
  {
   "cell_type": "code",
   "execution_count": null,
   "metadata": {},
   "outputs": [],
   "source": [
    "# Generate fuzzy membership functions\n",
    "qual_lo = fuzz.trimf(x_qual,[0,0,5])\n",
    "qual_me = fuzz.trimf(x_qual,[0,5,10])\n",
    "qual_hi = fuzz.trimf(x_qual,[5,10,10])\n",
    "\n",
    "serv_lo = fuzz.trimf(x_serv,[0,0,5])\n",
    "serv_me = fuzz.trimf(x_serv,[0,5,10])\n",
    "serv_hi = fuzz.trimf(x_serv,[5,10,10])\n",
    "\n",
    "tip_lo = fuzz.trimf(x_tip,[0,0,13])\n",
    "tip_me = fuzz.trimf(x_tip,[0,13,25])\n",
    "tip_hi = fuzz.trimf(x_tip,[13,25,25])"
   ]
  },
  {
   "cell_type": "markdown",
   "metadata": {},
   "source": [
    "## Visualize these universes and membership functions"
   ]
  },
  {
   "cell_type": "code",
   "execution_count": null,
   "metadata": {
    "scrolled": true
   },
   "outputs": [],
   "source": [
    "\n",
    "fig, (ax0,ax1,ax2) = plt.subplots(nrows=3,figsize=(8,9))\n",
    "\n",
    "ax0.plot(x_qual, qual_lo, 'b', linewidth=1.5, label='bad')\n",
    "ax0.plot(x_qual, qual_me, 'g', linewidth=1.5, label='decent')\n",
    "ax0.plot(x_qual, qual_hi, 'r', linewidth=1.5, label='great')\n",
    "ax0.set_title('Food Quality')\n",
    "ax0.legend()\n",
    "\n",
    "ax1.plot(x_serv, serv_lo, 'b', linewidth=1.5, label='poor')\n",
    "ax1.plot(x_serv, serv_me, 'g', linewidth=1.5, label='acceptable')\n",
    "ax1.plot(x_serv, serv_hi, 'r', linewidth=1.5, label='amazing')\n",
    "ax1.set_title('Service Quality')\n",
    "ax1.legend()\n",
    "\n",
    "ax2.plot(x_tip, tip_lo, 'b', linewidth=1.5, label='low')\n",
    "ax2.plot(x_tip, tip_me, 'g', linewidth=1.5, label='medium')\n",
    "ax2.plot(x_tip, tip_hi, 'r', linewidth=1.5, label='high')\n",
    "ax2.set_title('Tip amount')\n",
    "ax2.legend()\n",
    "\n",
    "# # turn off top/right axes\n",
    "for ax in (ax0, ax1, ax2):\n",
    "    ax.spines['top'].set_visible(False)\n",
    "    ax.spines['right'].set_visible(False)\n",
    "    ax.get_xaxis().tick_bottom()\n",
    "    ax.get_yaxis().tick_left()"
   ]
  },
  {
   "cell_type": "markdown",
   "metadata": {},
   "source": [
    "# Fuzzy Rules"
   ]
  },
  {
   "cell_type": "markdown",
   "metadata": {},
   "source": [
    "Fuzzy rules: Now, to make the triangles useful, we define the \"fuzzy relationship\" between input and output variables. For the purposes of our example, consider three simple rules:\n",
    "\n",
    "    1) If the food is bad OR the service is poor, then the tip will be low\n",
    "\n",
    "    2) If the service is acceptable, then the tip will be medium\n",
    "\n",
    "    3) If the food is great OR the service is amazing, then the tip will be high\n",
    "\n",
    "Most people would agree on these rules, but the rules are fuzzy. Mapping the imprecise rules into a defined, actionable tip is a challenge. This is the kind of task at which fuzzy logic excels. The rules normally are suggested by experts.\n"
   ]
  },
  {
   "cell_type": "markdown",
   "metadata": {},
   "source": [
    "![](https://i163.photobucket.com/albums/t281/kyin_album/FL1.png)"
   ]
  },
  {
   "cell_type": "markdown",
   "metadata": {},
   "source": [
    "![](http://i163.photobucket.com/albums/t281/kyin_album/FL.png)"
   ]
  },
  {
   "cell_type": "markdown",
   "metadata": {},
   "source": [
    "![](http://i163.photobucket.com/albums/t281/kyin_album/FL3.png)"
   ]
  },
  {
   "cell_type": "code",
   "execution_count": null,
   "metadata": {},
   "outputs": [],
   "source": [
    "# We need the activation of our fuzzy membership functions at these values.\n",
    "# This is what fuzz.interp_membership exists for!\n",
    "qual_level_lo  = fuzz.interp_membership(x_qual, qual_lo, userInput[0])\n",
    "qual_level_me  = fuzz.interp_membership(x_qual, qual_me, userInput[0])\n",
    "qual_level_hi  = fuzz.interp_membership(x_qual, qual_hi, userInput[0])\n",
    "\n",
    "serv_level_lo  = fuzz.interp_membership(x_serv, serv_lo, userInput[1])\n",
    "serv_level_me  = fuzz.interp_membership(x_serv, serv_me, userInput[1])\n",
    "serv_level_hi  = fuzz.interp_membership(x_serv, serv_hi, userInput[1])"
   ]
  },
  {
   "cell_type": "code",
   "execution_count": null,
   "metadata": {},
   "outputs": [],
   "source": [
    "# Now we take our rules and apply them. Rule 1 concerns bad food OR service.\n",
    "# The OR operator means we take the maximum of these two\n",
    "active_rule1 = np.fmax(qual_level_lo, serv_level_lo)\n",
    "tip_activation_lo = np.fmin(active_rule1, tip_lo) # membership function with 'np.fmin'\n",
    "\n",
    "# For rule 2 we connect acceptable service to medium tipping\n",
    "tip_activation_me = np.fmin(serv_level_me, tip_me)\n",
    "\n",
    "# For rule 3 we connect high service OR high food with high tipping\n",
    "active_rule3 = np.fmax(qual_level_hi, serv_level_hi)\n",
    "tip_activation_hi = np.fmin(active_rule3,tip_hi)\n",
    "tip0 = np.zeros_like(x_tip)\n"
   ]
  },
  {
   "cell_type": "markdown",
   "metadata": {},
   "source": [
    "Visualize the output membership function for the above rules"
   ]
  },
  {
   "cell_type": "code",
   "execution_count": null,
   "metadata": {},
   "outputs": [],
   "source": [
    "fig, ax0 = plt.subplots(figsize=(8,3))\n",
    "\n",
    "ax0.fill_between(x_tip, tip0, tip_activation_lo, facecolor='b', alpha=0.7)\n",
    "ax0.plot(x_tip,tip_lo, 'b', linewidth=0.5, linestyle='--')\n",
    "\n",
    "ax0.fill_between(x_tip, tip0, tip_activation_me, facecolor='g', alpha=0.7)\n",
    "ax0.plot(x_tip,tip_me, 'g', linewidth=0.5, linestyle='--')\n",
    "\n",
    "ax0.fill_between(x_tip, tip0, tip_activation_hi, facecolor='r', alpha=0.7)\n",
    "ax0.plot(x_tip,tip_hi, 'r', linewidth=0.5, linestyle='--')\n",
    "\n",
    "ax0.set_title('Output membership activity')\n",
    "\n"
   ]
  },
  {
   "cell_type": "code",
   "execution_count": null,
   "metadata": {},
   "outputs": [],
   "source": [
    "# Aggregrate all three output membership functions together\n",
    "aggregrated = np.fmax(tip_activation_lo, np.fmax(tip_activation_me, tip_activation_hi))\n",
    "\n",
    "#Calculate deffuzified results\n",
    "tip = fuzz.defuzz(x_tip, aggregrated, 'centroid')\n",
    "tip_activation = fuzz.interp_membership(x_tip, aggregrated, tip) # for plot"
   ]
  },
  {
   "cell_type": "code",
   "execution_count": null,
   "metadata": {},
   "outputs": [],
   "source": [
    "# visualize this\n",
    "fig, ax0 = plt.subplots(figsize=(8,3))\n",
    "\n",
    "ax0.plot(x_tip, tip_lo, 'b', linewidth = 0.5, linestyle='--')\n",
    "ax0.plot(x_tip, tip_me, 'g', linewidth = 0.5, linestyle='--')\n",
    "ax0.plot(x_tip, tip_hi, 'r', linewidth = 0.5, linestyle='--')\n",
    "ax0.fill_between(x_tip, tip0, aggregrated, facecolor='Orange', alpha=0.7) #alpha=transparentval\n",
    "ax0.plot([tip,tip],[0,tip_activation], 'k', linewidth=1.5, alpha=0.9)\n",
    "ax0.set_title('Aggregrated membership and result (line)')\n",
    "\n",
    "\n"
   ]
  },
  {
   "cell_type": "code",
   "execution_count": null,
   "metadata": {},
   "outputs": [],
   "source": [
    "print(\"Tip =\",tip)\n",
    "\n",
    "if 8 > tip:\n",
    "    print (\"Tip is low\")\n",
    "       \n",
    "elif 7 < tip:\n",
    "    print (\"Tip is good\")    \n",
    "        \n",
    "elif 14< tip:\n",
    "    print (\"Tip is excellent\")    "
   ]
  },
  {
   "cell_type": "markdown",
   "metadata": {},
   "source": [
    "## <font color='red'> Exercise</font>\n",
    "\n",
    "1. Please use fuzzy logic to implement a smart air conditioning system. The system must be\n",
    "able to determine the cooling temperature automatically based on the room temperature\n",
    "and room density. The membership functions and the rules suggested by an expert are as\n",
    "follows:\n",
    "\n",
    "**Suggested membership functions:**\n",
    "- M1: Temperature on subjective ranges [0, 50] (in degree Celcious)\n",
    "- M2: Density on subjective ranges [0, 30] (representing how many person)\n",
    "- M3: Cooling temperature has a range of [16, 30] (in degree Celcious)\n",
    "\n",
    "* Each of them should be represented with Low, Medium, and High triangular membership\n",
    "function. You may estimate the range of each level.\n",
    "\n",
    "\n",
    "**Suggested rules in your fuzzy inference system:**\n",
    "- **R1:** If the room temperature is low AND the density is low, then the cooling temperature\n",
    "will be moderate.\n",
    "- **R2:** If the room temperature is medium AND the density is high, then the cooling\n",
    "temperature will be low\n",
    "- **R3:** If the room temperature is high then the cooling temperature will be low.\n",
    "\n",
    "\n",
    "**What would the cooling temperature be in the following circumstance?**\n",
    "- room_temperature =16\n",
    "- room_density = 25\n",
    "- References:\n",
    "\n",
    "### Reference:\n",
    "Scikit-fuzzy documentation is available at http://pythonhosted.org/scikit-fuzzy/"
   ]
  }
 ],
 "metadata": {
  "kernelspec": {
   "display_name": "Python 3 (ipykernel)",
   "language": "python",
   "name": "python3"
  },
  "language_info": {
   "codemirror_mode": {
    "name": "ipython",
    "version": 3
   },
   "file_extension": ".py",
   "mimetype": "text/x-python",
   "name": "python",
   "nbconvert_exporter": "python",
   "pygments_lexer": "ipython3",
   "version": "3.11.7"
  }
 },
 "nbformat": 4,
 "nbformat_minor": 4
}
