{
 "cells": [
  {
   "cell_type": "markdown",
   "metadata": {},
   "source": [
    "# Practical 1: Getting Started with Python (Part 1)"
   ]
  },
  {
   "cell_type": "markdown",
   "metadata": {},
   "source": [
    "### Start your python code with\n",
    "\n",
    "(1) __Anaconda navigator__<br>\n",
    "(2) Jupyter notebook<br>\n",
    "(3) Google Colab<br>\n",
    "(3) Pycharm<br>\n",
    "(4) Spyder<br>\n",
    "(5) Visual Studio<br>\n",
    "etc\n",
    "\n",
    "Reference: https://www.simplilearn.com/tutorials/python-tutorial/python-ide"
   ]
  },
  {
   "cell_type": "markdown",
   "metadata": {},
   "source": [
    "### Introduction to jupyter notebook:\n",
    "\n",
    "https://realpython.com/jupyter-notebook-introduction/"
   ]
  },
  {
   "cell_type": "markdown",
   "metadata": {},
   "source": [
    "## 1 - Number, Variable and Operator"
   ]
  },
  {
   "cell_type": "markdown",
   "metadata": {},
   "source": [
    "### 1.1 - Numbers and Boolean"
   ]
  },
  {
   "cell_type": "code",
   "execution_count": 3,
   "metadata": {},
   "outputs": [
    {
     "name": "stdout",
     "output_type": "stream",
     "text": [
      "a = 42346 b = 341.3234 c = 10 d = 128.0 e = 128.0 f = True\n"
     ]
    }
   ],
   "source": [
    "#Integer \n",
    "a = 42343 + 3\n",
    "\n",
    "#Floating Point \n",
    "b = 343.3234 - 2 \n",
    " \n",
    "#Binary Number \n",
    "c = 0b101 * 0b10 \n",
    " \n",
    "#Hexadecimal Number \n",
    "d =  0x100 / 0x2\n",
    " \n",
    "#Octal Number \n",
    "e = 0o400 / 0o2 \n",
    " \n",
    "#Boolean \n",
    "f = True \n",
    "\n",
    "print ('a =', a, 'b =', b, 'c =', c, 'd =', d, 'e =', e, 'f =', f )"
   ]
  },
  {
   "cell_type": "code",
   "execution_count": null,
   "metadata": {},
   "outputs": [],
   "source": [
    "type(f)"
   ]
  },
  {
   "cell_type": "code",
   "execution_count": null,
   "metadata": {},
   "outputs": [],
   "source": [
    "#Binary Number \n",
    "d = 0b101 * 0b10\n",
    "print(format(d,'0b'))"
   ]
  },
  {
   "cell_type": "code",
   "execution_count": null,
   "metadata": {},
   "outputs": [],
   "source": [
    "#Hexadecimal Number \n",
    "e =  0x100 / 0x2\n",
    "type(e)\n",
    "print(format(int(e), '0x'))"
   ]
  },
  {
   "cell_type": "code",
   "execution_count": null,
   "metadata": {},
   "outputs": [],
   "source": [
    "#Octal Number \n",
    "f = 0o400 / 0o2\n",
    "print(format(int(f), '0o'))"
   ]
  },
  {
   "cell_type": "markdown",
   "metadata": {},
   "source": [
    "### 1.2 - Floor Division "
   ]
  },
  {
   "cell_type": "code",
   "execution_count": null,
   "metadata": {},
   "outputs": [],
   "source": [
    "#Floor Division \n",
    "print (5 // 2) \n",
    "print (5 // 2.0) "
   ]
  },
  {
   "cell_type": "markdown",
   "metadata": {},
   "source": [
    "### 1.3 - Modulus (finding the remainder)"
   ]
  },
  {
   "cell_type": "code",
   "execution_count": null,
   "metadata": {},
   "outputs": [],
   "source": [
    "#Modulus Operator \n",
    "r = 7 % 2\n",
    "print(r)"
   ]
  },
  {
   "cell_type": "markdown",
   "metadata": {},
   "source": [
    "### 1.4 - Power Operator "
   ]
  },
  {
   "cell_type": "code",
   "execution_count": null,
   "metadata": {},
   "outputs": [],
   "source": [
    "#Power Operator \n",
    "print (2 ** 4) "
   ]
  },
  {
   "cell_type": "markdown",
   "metadata": {},
   "source": [
    "### 1.5 - String Literal"
   ]
  },
  {
   "cell_type": "code",
   "execution_count": null,
   "metadata": {},
   "outputs": [],
   "source": [
    "# String Literal c++: \"Hello World\" and datatype is needed string or char []; In python, '' OR \"\" OR '\"\"'\n",
    "\n",
    "print (\"This is Python Programming\\n\")\n",
    "print ('It is Pythonic!')\n",
    "\n",
    "# Join 2 strings\n",
    "a = 10                # use \",\" if different datatype\n",
    "b = 'world'\n",
    "print (a,b)\n",
    "\n",
    "c = \"Hello\"           # use \"+\" if same datatype\n",
    "d = \"world\"\n",
    "print (c + d)"
   ]
  },
  {
   "cell_type": "markdown",
   "metadata": {},
   "source": [
    "### 1.6 Checking the Data Type"
   ]
  },
  {
   "cell_type": "code",
   "execution_count": null,
   "metadata": {},
   "outputs": [],
   "source": [
    "a = 5 / 2\n",
    "type(a)"
   ]
  },
  {
   "cell_type": "markdown",
   "metadata": {},
   "source": [
    "## 2 - Random Numbers"
   ]
  },
  {
   "cell_type": "markdown",
   "metadata": {},
   "source": [
    "*It is important to import Random library before using the random function*<BR>\n",
    "\n",
    "in C++ <BR>\n",
    "Syntax:  #include <random>"
   ]
  },
  {
   "cell_type": "markdown",
   "metadata": {},
   "source": [
    "*It is important to import Random library before using the random function*"
   ]
  },
  {
   "cell_type": "code",
   "execution_count": null,
   "metadata": {},
   "outputs": [],
   "source": [
    "import random               # import Random library before using the random function\n",
    "\n",
    "r1 = random.random()        # Random float x, 0.0 <= x < 1.0  !!before 1.0!!\n",
    "\n",
    "r2 = random.uniform(1, 10)  # Random float x, 1.0 <= x < 10.0\n",
    "\n",
    "r3 = random.randint(1, 10)  # Integer from 1 to 10, endpoints included\n",
    "\n",
    "r4 = random.randrange(0, 101, 3)  # Even integer from 0 to 100\n",
    "\n",
    "r5 = random.choice('abcdefghij')  # Choose a random element\n",
    "print (r5)\n",
    "\n",
    "r7 = random.choice([\"red\",\"green\",\"yello\",\"black\"]) # same ['a','b','v']\n",
    "print (r7)\n",
    "\n",
    "elements = random.sample([1, 2, 3, 4, 5],  3)  # Choose 3 elements\n",
    "print (r1,r2,r3,r4,r5,r7,elements)\n",
    "\n",
    "items = [1, 2, 3, 4, 5, 6, 7] # Reshuffle items in a list random.shuffle(items) print items\n",
    "random.shuffle(items)\n",
    "print (items)"
   ]
  },
  {
   "cell_type": "markdown",
   "metadata": {},
   "source": [
    "## 3 - Decision Making"
   ]
  },
  {
   "cell_type": "markdown",
   "metadata": {},
   "source": [
    "*The following table shows the logical comparison operators.*"
   ]
  },
  {
   "cell_type": "markdown",
   "metadata": {},
   "source": [
    "Operator | Meaning\n",
    "---------| -------------------------\n",
    "==       | Equals to\n",
    "!=\t     | Not equals to\n",
    "\\>       | Greater than\n",
    "\\>=      | Greater than or equals to\n",
    "<        | Less than\n",
    "<=       | Less than or equals to\n"
   ]
  },
  {
   "cell_type": "markdown",
   "metadata": {},
   "source": [
    "### 3.1 - Decision Making – If-else statement"
   ]
  },
  {
   "cell_type": "markdown",
   "metadata": {},
   "source": [
    "*Remark: There is no **switch** statement in Python* <br> In C++,\n",
    "\n",
    "switch(expression) {<br>\n",
    "  case x:<br>\n",
    "    // code block<br>\n",
    "    break;<br>\n",
    "  case y:<br>\n",
    "    // code block<br>\n",
    "    break;<br>\n",
    "  default:<br>\n",
    "    // code block<br>\n",
    "}."
   ]
  },
  {
   "cell_type": "code",
   "execution_count": null,
   "metadata": {},
   "outputs": [],
   "source": [
    "weight = 50.0 #try your own weight in kilogram \n",
    "height = 1.60 #try your own height in meter \n",
    "bmi = weight / (height) ** 2  #the body mass index formula normal = False \n",
    " \n",
    "print ('Your BMI is ', bmi)\n",
    " \n",
    "if bmi < 18.5:  #don’t forget the ‘:’     \n",
    "    print ('You are underweight') \n",
    "elif 18.5 <= bmi <= 25:     \n",
    "    print ('Congratulation. Your weight is normal')     \n",
    "    normal = True \n",
    "elif 25 <= bmi <= 30:     \n",
    "    print ('Time to keep fit')\n",
    "elif 30 <= bmi <= 35:     \n",
    "    print ('You should reduce your weight')\n",
    "else:     \n",
    "    print ('Time to seek help from a professional fitness expert')\n",
    "\n",
    "if normal != True: \n",
    "     print ('TAR Slimming Centre could help')"
   ]
  },
  {
   "cell_type": "markdown",
   "metadata": {},
   "source": [
    "### 3.2 - The Inline If statement"
   ]
  },
  {
   "cell_type": "code",
   "execution_count": 2,
   "metadata": {},
   "outputs": [
    {
     "name": "stdout",
     "output_type": "stream",
     "text": [
      "Please enter your name:  10\n"
     ]
    },
    {
     "name": "stdout",
     "output_type": "stream",
     "text": [
      "Hello, it is pleasure to meet you,  10\n"
     ]
    },
    {
     "name": "stdout",
     "output_type": "stream",
     "text": [
      "Please enter a number:  20\n"
     ]
    },
    {
     "name": "stdout",
     "output_type": "stream",
     "text": [
      "It is even\n"
     ]
    }
   ],
   "source": [
    "name = input(\"Please enter your name: \")               # to get the input as a string input = cin>>\n",
    "print (\"Hello, it is pleasure to meet you, \", name )\n",
    "\n",
    "num = int(input(\"Please enter a number: \") )           #casting/conversion, by default input (string)\n",
    "print (\"It is even\" if num % 2 == 0 else \"It is odd\")  #inline if statement\n",
    "\n",
    "# Original Code\n",
    "# if (num % 2 == 0):\n",
    "#     print (\"It is even\")\n",
    "# else:\n",
    "#     print (\"It is odd\")"
   ]
  },
  {
   "cell_type": "markdown",
   "metadata": {},
   "source": [
    "## 4 - Loop"
   ]
  },
  {
   "cell_type": "markdown",
   "metadata": {},
   "source": [
    "### 4.1 - Iterate with Range\n",
    "The **for** statement in Python differs a bit from what you may be used to in C. Instead of using a counter to determine the iteration step and halting condition, we use **range(start, stop before, step)** to iterate over a sequence of numbers. Example:"
   ]
  },
  {
   "cell_type": "markdown",
   "metadata": {},
   "source": [
    "in c++, we use counter to halt the process\n",
    "for (int i=0;i<10;i++)"
   ]
  },
  {
   "cell_type": "code",
   "execution_count": null,
   "metadata": {},
   "outputs": [],
   "source": [
    "for i in range(10):     \n",
    "    print ('i :', i )\n",
    "print (\"-----------\" )\n",
    " \n",
    "for i in range(-5, 5):     \n",
    "    print ('i :', i )\n",
    "print (\"-----------\" )\n",
    " \n",
    "for i in range(10, 20, 2):     \n",
    "    print ('i :', i )"
   ]
  },
  {
   "cell_type": "markdown",
   "metadata": {},
   "source": [
    "### 4.2 - Iterate with Sequence Index\n",
    "You can access each item by index offset into the sequence itself. Example:"
   ]
  },
  {
   "cell_type": "markdown",
   "metadata": {},
   "source": [
    "num = [\"albert\", \"ben\", \"charlie\"] \n",
    "\n",
    "for i in range(len(num)):\n",
    "    print(num[i])"
   ]
  },
  {
   "cell_type": "code",
   "execution_count": null,
   "metadata": {},
   "outputs": [],
   "source": [
    "num = [2,4,5,8] \n",
    "for index in range(len(num)):    \n",
    "    print ('Current item :', num[index] )"
   ]
  },
  {
   "cell_type": "markdown",
   "metadata": {},
   "source": [
    "### 4.3 - Iterating list of strings\n",
    "You can use for statement to iterate items in a list of strings as follows:"
   ]
  },
  {
   "cell_type": "code",
   "execution_count": null,
   "metadata": {},
   "outputs": [],
   "source": [
    "for day in [\"Mon\", \"Tue\", \"Wed\", \"Thu\", \"Fri\"]:     \n",
    "    print (day) "
   ]
  },
  {
   "cell_type": "markdown",
   "metadata": {},
   "source": [
    "### 4.4. Conditional Loop\n",
    "Use **while()** loop to execute a block of code until a given condition is met\n",
    "\n",
    "while = as long as"
   ]
  },
  {
   "cell_type": "code",
   "execution_count": null,
   "metadata": {},
   "outputs": [],
   "source": [
    "n = int(input(\"Enter the upper boundry of your fibonucci sequence: \"))\n",
    "a = 0\n",
    "b = 1\n",
    "print(a)\n",
    "while b < n:\n",
    "    print(b)\n",
    "    t = b\n",
    "    b = a + b\n",
    "    a = t"
   ]
  },
  {
   "cell_type": "markdown",
   "metadata": {},
   "source": [
    "### 4.5 - Break, Pass and Continue statement\n",
    "Use **break** to quit a loop, use **pass** to return True"
   ]
  },
  {
   "cell_type": "code",
   "execution_count": null,
   "metadata": {},
   "outputs": [],
   "source": [
    "import random\n",
    "answer = random.randint(1, 10) \n",
    "while True:  #infinite loop until the break statement is met\n",
    "    x = int(input('Guess a number between 1 to 10 >>  '))\n",
    "    if x == answer:\n",
    "        break   # terminate the loop\n",
    "    if x < 1:\n",
    "        pass    # pass statement does nothing, but continue to next statement\n",
    "    if x > answer:\n",
    "        print(\"choose a smaller number\")\n",
    "        continue    # continue the next iteration\n",
    "    elif x < answer:\n",
    "        print(\"choose a bigger number\")\n",
    "\n",
    "print(\"You got it!\")"
   ]
  },
  {
   "cell_type": "markdown",
   "metadata": {},
   "source": [
    "## 5 - Function"
   ]
  },
  {
   "cell_type": "markdown",
   "metadata": {},
   "source": [
    "### 5.1 - Function Definition\n",
    "A function in Python is declared using the **def** keyword"
   ]
  },
  {
   "cell_type": "code",
   "execution_count": null,
   "metadata": {},
   "outputs": [],
   "source": [
    "def area(x,y):\n",
    "    return x * y\n",
    "\n",
    "a = int(input('Enter a length >> '))\n",
    "b = int(input('Enter a width >> '))\n",
    "print('The area is ', area(a,b))"
   ]
  },
  {
   "cell_type": "markdown",
   "metadata": {},
   "source": [
    "### 5.1 - Function Definition\n",
    "A function in Python is declared using the **def** keyword\n",
    "\n",
    "in c++ <br>\n",
    "void division (parameter1,parameter2)<br>\n",
    "int calculate (par1, par2)"
   ]
  },
  {
   "cell_type": "code",
   "execution_count": null,
   "metadata": {},
   "outputs": [],
   "source": [
    "def area(x,y):      #declare a function known as area and is going to receive 2 parameters, x, and y\n",
    "    return x * y\n",
    "\n",
    "a = int(input('Enter a length >> ')) #explicit casting /convertion\n",
    "b = int(input('Enter a width >> '))\n",
    "print('The area is ', area(a,b))"
   ]
  },
  {
   "cell_type": "markdown",
   "metadata": {},
   "source": [
    "### 5.2.Function with default parameter(s)\n",
    "You can specify *default values* to the function argument(s)"
   ]
  },
  {
   "cell_type": "code",
   "execution_count": null,
   "metadata": {},
   "outputs": [],
   "source": [
    "def circle(radius, pi = 3.14): # a default value is set to pi\n",
    "    \"\"\"\n",
    "    Calculates circle area for the given radius\n",
    "    \"\"\"\n",
    "    area = pi * radius ** 2\n",
    "    return area\n",
    "\n",
    "print(circle(10))             # the 2nd argument is ignored, so the default value pi is used\n",
    "print(circle(10, 22/7))       # the 2nd argument default value is overwritten\n",
    "\n",
    "# the order does not matter if you call the argument by its keyword\n",
    "print(circle(pi = 2.6, radius = 10))\n"
   ]
  },
  {
   "cell_type": "markdown",
   "metadata": {},
   "source": [
    "# Exercise"
   ]
  },
  {
   "cell_type": "code",
   "execution_count": 3,
   "metadata": {},
   "outputs": [
    {
     "name": "stdout",
     "output_type": "stream",
     "text": [
      "Enter first number: 38\n",
      "Enter 2 number: 673\n"
     ]
    },
    {
     "name": "stdout",
     "output_type": "stream",
     "text": [
      "The sum of 38 and 673 is 711\n"
     ]
    }
   ],
   "source": [
    "# Calculate the sum of two numbers, 38 and 673. Assign the result to variable 'e' and print the result.\n",
    "num = int(input(\"Enter first number:\"))\n",
    "\n",
    "num2 = int(input(\"Enter 2 number:\"))\n",
    "\n",
    "e = num + num2\n",
    "\n",
    "print(f\"The sum of {num} and {num2} is {e}\")\n"
   ]
  },
  {
   "cell_type": "code",
   "execution_count": 4,
   "metadata": {},
   "outputs": [
    {
     "name": "stdout",
     "output_type": "stream",
     "text": [
      "The subtraction of 711 with 43.34 is 667.66\n"
     ]
    }
   ],
   "source": [
    "# Perform a subtraction operation using the result obtained from previous cell, 'e' with 43.34. Assign the result to variable 'f' and print the result.\n",
    "f = e-43.34\n",
    "print(f\"The subtraction of {e} with 43.34 is {f}\")\n"
   ]
  },
  {
   "cell_type": "code",
   "execution_count": 5,
   "metadata": {},
   "outputs": [
    {
     "name": "stdout",
     "output_type": "stream",
     "text": [
      "e=\n",
      "binary:0b1011000111\n",
      "hexa:0x2c7 \n",
      "octal:0o1307\n",
      "\n",
      "f=\n",
      "binary:0b1010011011\n",
      "hexa:0x29b \n",
      "octal:0o1233\n"
     ]
    }
   ],
   "source": [
    "# Convert the variable 'e' and 'f' into binary, hexadecimal and octal numbering system. Note: You have to convert float type variable into integer first.\n",
    "\n",
    "print(f\"e=\\nbinary:{bin(e)}\\nhexa:{hex(e)} \\noctal:{oct(e)}\")\n",
    "print()\n",
    "print(f\"f=\\nbinary:{bin(int(f))}\\nhexa:{hex(int(f))} \\noctal:{oct(int(f))}\")"
   ]
  },
  {
   "cell_type": "code",
   "execution_count": 7,
   "metadata": {},
   "outputs": [
    {
     "name": "stdout",
     "output_type": "stream",
     "text": [
      "The result of dividing 0x2c7 by 0x29b is: 1.065967016491754\n"
     ]
    }
   ],
   "source": [
    "# Perform a division operation involving result obtained from previous cell: hexadecimal number of e by hexadecimal number of f\n",
    "# Assuming 'e' and 'f' are already defined and are hexadecimal numbers\n",
    "hex_e = hex(e)  # Convert e to hexadecimal\n",
    "hex_f = hex(int(f))  # Convert f to hexadecimal\n",
    "\n",
    "# Convert hex values back to decimal\n",
    "decimal_e = int(hex_e, 16)\n",
    "decimal_f = int(hex_f, 16)\n",
    "\n",
    "# Perform the division\n",
    "result = decimal_e / decimal_f\n",
    "print(f\"The result of dividing {hex_e} by {hex_f} is: {result}\")\n"
   ]
  },
  {
   "cell_type": "code",
   "execution_count": 8,
   "metadata": {},
   "outputs": [
    {
     "data": {
      "text/plain": [
       "26.67210645701522"
      ]
     },
     "execution_count": 8,
     "metadata": {},
     "output_type": "execute_result"
    }
   ],
   "source": [
    "# Use random.uniform to generate a random float between 1.0 and 100.0 (inclusive of 1.0 but exclusive of 100.0). Print the result.\n",
    "import random\n",
    "\n",
    "# Generate a random float between 1.0 (inclusive) and 100.0 (exclusive)\n",
    "random_float = random.uniform(1.0, 100.0)\n",
    "\n",
    "# Print the result\n",
    "random_float\n"
   ]
  },
  {
   "cell_type": "code",
   "execution_count": null,
   "metadata": {},
   "outputs": [],
   "source": [
    "# Use for loop to generate 5 random value between 1.0 and 100.0 (inclusive of 1.0 but exclusive of 100.0). Print the result.\n",
    "for i in range(5):\n",
    "    random_float = random.uniform(1.0, 100.0)\n",
    "    print(random_float)"
   ]
  },
  {
   "cell_type": "code",
   "execution_count": null,
   "metadata": {},
   "outputs": [],
   "source": [
    "# Write a Python program that prompts the user to enter their age. Based on the age entered, the program should print one of the following messages:\n",
    "\n",
    "# Prompting user to enter their age\n",
    "age = int(input(\"Enter your age:\"))\n",
    "\n",
    "#\"Invalid age\" if the age entered is negative.\n",
    "if age <0:\n",
    "    print(\"Invalid age\")\n",
    "#\"You are a child\" if the age is less than 18.\n",
    "elif age<18:\n",
    "    print(\"You are a child.\")\n",
    "#\"You are an adult\" if the age is 18 or older but less than 65.\n",
    "elif age< 65:\n",
    "    print(\"You are an adult\")\n",
    "#\"You are a senior\" if the age is 65 or older.\n",
    "else:\n",
    "    print(\"You are a senior\")\n",
    "\n"
   ]
  },
  {
   "cell_type": "code",
   "execution_count": null,
   "metadata": {},
   "outputs": [],
   "source": [
    "# Write a Python program that defines a function called add_numbers which takes two parameters (num1 and num2). \n",
    "# The function should calculate the sum of num1 and num2, and then print the result. \n",
    "# Use this function to add two sets of numbers: (3, 5) and (10, -2).\n",
    "def add_numbers(num1,num2):\n",
    "    return num1+num2\n",
    "\n",
    "print(add_numbers(3,5))\n",
    "print(add_numbers(10,-2))"
   ]
  },
  {
   "cell_type": "markdown",
   "metadata": {},
   "source": [
    "# Great Job!"
   ]
  }
 ],
 "metadata": {
  "kernelspec": {
   "display_name": "Python 3 (ipykernel)",
   "language": "python",
   "name": "python3"
  },
  "language_info": {
   "codemirror_mode": {
    "name": "ipython",
    "version": 3
   },
   "file_extension": ".py",
   "mimetype": "text/x-python",
   "name": "python",
   "nbconvert_exporter": "python",
   "pygments_lexer": "ipython3",
   "version": "3.10.11"
  }
 },
 "nbformat": 4,
 "nbformat_minor": 4
}
