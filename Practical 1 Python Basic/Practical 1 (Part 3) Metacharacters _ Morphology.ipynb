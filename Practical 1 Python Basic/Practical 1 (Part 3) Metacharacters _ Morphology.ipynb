{
 "cells": [
  {
   "cell_type": "markdown",
   "metadata": {},
   "source": [
    "# Practical 1 (Part 3) Metacharacters\r\n",
    "A <b>Metacharacters</b> are characters with a special meaning.\r\n",
    "\r\n",
    "[ ] . ^ $ * + ? {} () \\ |     #additional info about Regex\r\n",
    "\r\n",
    "Reference:https://www.w3schools.com/python/gloss_python_regex_metacharacter\n",
    "\n",
    "https://regex101.com/s.asp"
   ]
  },
  {
   "cell_type": "markdown",
   "metadata": {},
   "source": [
    "### <b>[ ] Square brackets</b>\n",
    "Square brackets specifies a set of characters you wish to match.\n",
    "\n",
    "Searching Pattern [abc]:<br  />\n",
    "a         > 1 match <br  />\n",
    "bc        > 2 matches <br  />\n",
    "Hey Jude  > No match <br  />\n",
    "abc de ca > 5 matches <br  />"
   ]
  },
  {
   "cell_type": "code",
   "execution_count": null,
   "metadata": {},
   "outputs": [],
   "source": [
    "import re\n",
    "\n",
    "txt = \"I love Natural Language Processing\"\n",
    "x = re.findall(\"[abc]\", txt)\n",
    "\n",
    "print('You found',len(x), 'match(es).')"
   ]
  },
  {
   "cell_type": "code",
   "execution_count": null,
   "metadata": {},
   "outputs": [],
   "source": [
    "import re\n",
    "\n",
    "txt = \"I love abc\"\n",
    "x = re.findall(\"[a-c]\", txt) #[a-e] = [abcde]\n",
    "\n",
    "print('You found',len(x), 'match(es).')"
   ]
  },
  {
   "cell_type": "code",
   "execution_count": null,
   "metadata": {},
   "outputs": [],
   "source": [
    "import re\n",
    "\n",
    "txt = \"You know the song ABCDabcd?\"\n",
    "x = re.findall(\"[A-D]\", txt) #[A-D] = [ABCD] NOT [abcd]\n",
    "\n",
    "print('You found',len(x), 'match(es).')\n",
    "\n",
    "##=======================\n",
    "# import re  #A is not diff a , case sensitive\n",
    "\n",
    "# txt = \"You know the song ABCDabcd?\"\n",
    "# x = re.findall(\"[A-Z]|[a-z]\", txt) \n",
    "\n",
    "# print('You found',len(x), 'match(es).')"
   ]
  },
  {
   "cell_type": "code",
   "execution_count": null,
   "metadata": {},
   "outputs": [],
   "source": [
    "import re\n",
    "\n",
    "txt = \"You know the song 1234567?\"\n",
    "x = re.findall(\"[1-3]\", txt) # [1-3] = [123]\n",
    "y = re.findall(\"123\", txt)   # \"123\" != [123]\n",
    "\n",
    "print('You found',len(x), 'match(es).')\n",
    "print('You found',len(y), 'match(es).')"
   ]
  },
  {
   "cell_type": "code",
   "execution_count": null,
   "metadata": {},
   "outputs": [],
   "source": [
    "import re\n",
    "\n",
    "txt = \"You know the song 1234567?\"\n",
    "x = re.findall(\"[1-3]\", txt)    # [1-3] = [123]\n",
    "y = re.findall(\"[1-37]\", txt)   # [1-3] = [1237]\n",
    "\n",
    "#print('You found',len(x), 'match(es).')\n",
    "print('You found',len(y), 'match(es).')"
   ]
  },
  {
   "cell_type": "markdown",
   "metadata": {},
   "source": [
    "### <b>. Period</b>\n",
    "Any character (except newline character)"
   ]
  },
  {
   "cell_type": "code",
   "execution_count": 1,
   "metadata": {},
   "outputs": [
    {
     "name": "stdout",
     "output_type": "stream",
     "text": [
      "18 match(es) found.\n"
     ]
    }
   ],
   "source": [
    "import re\n",
    "\n",
    "#Website address counter\n",
    "txt = \"www.guanyingma.com\"\n",
    "x = re.findall(\".\", txt) #any single character except newline '\\n'\n",
    "len(txt)\n",
    "\n",
    "print(len(txt), 'match(es) found.')"
   ]
  },
  {
   "cell_type": "markdown",
   "metadata": {},
   "source": [
    "### ^ Caret<b></b>\n",
    "Starts with"
   ]
  },
  {
   "cell_type": "code",
   "execution_count": null,
   "metadata": {},
   "outputs": [],
   "source": [
    "import re\n",
    "\n",
    "txt = \"bac\" #ab, abc, bac, \n",
    "x = re.findall(\"^a\", txt) \n",
    "print(len(x), 'match(es) found.')"
   ]
  },
  {
   "cell_type": "markdown",
   "metadata": {},
   "source": [
    "### <b>{ } Curly Bracket</b> \n",
    "Exactly the specified number of occurrences"
   ]
  },
  {
   "cell_type": "code",
   "execution_count": null,
   "metadata": {},
   "outputs": [],
   "source": [
    "import re\n",
    "\n",
    "txt = \"The rain in Malaysia falls mainly in the plain!\"\n",
    "#Check if the string contains \"a\" followed by exactly two \"l\" characters:\n",
    "x = re.findall(\"al{2}\", txt)\n",
    "print(x)\n",
    "\n",
    "if x:\n",
    "  print(\"Yes, there is at least one match!\")\n",
    "else:\n",
    "  print(\"No match\")"
   ]
  },
  {
   "cell_type": "markdown",
   "metadata": {},
   "source": [
    "### <b>‘|’ either or </b>"
   ]
  },
  {
   "cell_type": "code",
   "execution_count": null,
   "metadata": {},
   "outputs": [],
   "source": [
    "import re\n",
    "\n",
    "txt = \"The rain in Malaysia falls mainly in the plain!\"\n",
    "#Check if the string contains either \"falls\" or \"stays\":\n",
    "x = re.findall(\"falls|stays\", txt)\n",
    "print(x)\n",
    "\n",
    "if x:\n",
    "  print(\"Yes, there is at least one match!\")\n",
    "else:\n",
    "  print(\"No match\")"
   ]
  },
  {
   "cell_type": "markdown",
   "metadata": {},
   "source": [
    "# Exercise"
   ]
  },
  {
   "cell_type": "code",
   "execution_count": null,
   "metadata": {},
   "outputs": [],
   "source": [
    "# Write a function find_vowels that uses [ ] to find all vowels (both uppercase and lowercase) in a given string and returns them as a list.\n",
    "# text = \"Hello, World! This is a Sample Text.\"\n",
    "# ooutput >> ['e', 'o', 'o', 'i', 'i', 'a', 'a', 'e', 'e']\n"
   ]
  },
  {
   "cell_type": "code",
   "execution_count": null,
   "metadata": {},
   "outputs": [],
   "source": [
    "# Write a function find_words_with_dot that uses . to find all words in a given string that end with a dot (.).\n",
    "# text = \"These are some abbreviations: etc., e.g., i.e., etc.\"\n",
    "# output >> ['etc., ', 'e.', 'g., ', 'i.', 'e., ', 'etc.']\n"
   ]
  },
  {
   "cell_type": "code",
   "execution_count": null,
   "metadata": {},
   "outputs": [],
   "source": [
    "# Write a function find_starting_with_caret that uses ^ to find all words in a given string that start with a capital letter.\n",
    "# text = \"Hello, World! This is a Sample Text.\"\n",
    "# output >> ['Hello', 'World', 'This', 'Sample', 'Text']\n"
   ]
  },
  {
   "cell_type": "code",
   "execution_count": null,
   "metadata": {},
   "outputs": [],
   "source": [
    "# Write a function find_numbers_with_curly that uses { } to find all numbers in a given string that have exactly 3 digits.\n",
    "# text = \"These are some numbers: 123, 4567, 890, 45, 6789.\"\n",
    "# output >> ['123', '890']\n"
   ]
  },
  {
   "cell_type": "code",
   "execution_count": null,
   "metadata": {},
   "outputs": [],
   "source": [
    "# Write a function find_either_or that uses | to find all occurrences of either \"cat\" or \"dog\" in a given string.\n",
    "# text = \"I have a cat and a dog, but my neighbor has two cats.\"\n",
    "# output >> ['cat', 'dog']\n"
   ]
  }
 ],
 "metadata": {
  "kernelspec": {
   "display_name": "Python 3 (ipykernel)",
   "language": "python",
   "name": "python3"
  },
  "language_info": {
   "codemirror_mode": {
    "name": "ipython",
    "version": 3
   },
   "file_extension": ".py",
   "mimetype": "text/x-python",
   "name": "python",
   "nbconvert_exporter": "python",
   "pygments_lexer": "ipython3",
   "version": "3.11.1"
  }
 },
 "nbformat": 4,
 "nbformat_minor": 4
}
