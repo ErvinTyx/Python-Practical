{
 "cells": [
  {
   "cell_type": "markdown",
   "metadata": {
    "id": "EV_BGyXN38xK"
   },
   "source": [
    "# Practical 1(iii): Strings and Text Processing"
   ]
  },
  {
   "cell_type": "markdown",
   "metadata": {
    "id": "vnoFgwqn38xQ"
   },
   "source": [
    "# Section A: Strings\n",
    "1.\tPrint (a string: The following command prints text as strings, with '' or \"\""
   ]
  },
  {
   "cell_type": "code",
   "execution_count": null,
   "metadata": {
    "id": "YVcNWrTw38xR"
   },
   "outputs": [],
   "source": [
    "print ('hello \"world')\n",
    "print (\"hello 'strings\")\n",
    "print (\"hello \\\"string\")"
   ]
  },
  {
   "cell_type": "markdown",
   "metadata": {
    "id": "WOBmTIdg38xT"
   },
   "source": [
    "<b>Bug hunt</b>: The following commands consist of bugs. Run them and note the error message. Solve the bugs."
   ]
  },
  {
   "cell_type": "code",
   "execution_count": null,
   "metadata": {
    "id": "AfAqaqf-38xT"
   },
   "outputs": [],
   "source": [
    "print('hello world')\n",
    "print(\"hello strings\")"
   ]
  },
  {
   "cell_type": "markdown",
   "metadata": {
    "id": "QMurE3B938xT"
   },
   "source": [
    "2.\tSeveral lines of strings: Sometimes we may want to put several lines of text in a string"
   ]
  },
  {
   "cell_type": "code",
   "execution_count": null,
   "metadata": {
    "id": "PeFLKrbh38xU"
   },
   "outputs": [],
   "source": [
    "print ('After installation, you can test if NLTK is '\n",
    "      'properly installed by running the following'\n",
    "      'commands in your Python environment: '\n",
    "      '\"import nltk\" and \"print(nltk.version)\".If the commands execute without any errors,'\n",
    "      'NLTK is installed and ready to use')\n",
    "\n",
    "text = (\"\\nSeveral\"\n",
    "        \"\\nlines of \"\n",
    "        \"\\ntext\")\n",
    "\n",
    "print (text)"
   ]
  },
  {
   "cell_type": "markdown",
   "metadata": {
    "id": "ZZu3PKCT38xV"
   },
   "source": [
    "3.\t<b>WYSIWYG</b>: If you want to make sure the output looks exactly what you placed with new line, use triple quotation marks (\"\"\" or ''')"
   ]
  },
  {
   "cell_type": "code",
   "execution_count": null,
   "metadata": {
    "id": "f9jGWnDq38xV"
   },
   "outputs": [],
   "source": [
    "print ('''several\n",
    "   lines of\n",
    "     text\\n''')\n",
    "\n",
    "# or\n",
    "\n",
    "print (\"\"\"several\n",
    "    lines of\n",
    "             text\"\"\")"
   ]
  },
  {
   "cell_type": "markdown",
   "metadata": {
    "id": "ltKDxsbT38xW"
   },
   "source": [
    "4.\t<b>Combine strings</b>: Use ‘,’ or '+' to combine two or more strings.  If you want to duplicate a string, you can use ‘*.\n",
    "\n",
    "Remark: Please note that other arithmetic operators like ‘/’ and ‘-’ do not apply to strings"
   ]
  },
  {
   "cell_type": "code",
   "execution_count": null,
   "metadata": {
    "id": "pS-cz6jY38xW"
   },
   "outputs": [],
   "source": [
    "p = \"python\"\n",
    "print (p, p)\n",
    "print (p + p + p)\n",
    "print (p * 10)"
   ]
  },
  {
   "cell_type": "markdown",
   "metadata": {
    "id": "F3R98gmP38xX"
   },
   "source": [
    "5.\t<b>Try it yourself</b>: Try this and observe the output"
   ]
  },
  {
   "cell_type": "code",
   "execution_count": null,
   "metadata": {
    "id": "KQUgEKQ-38xX"
   },
   "outputs": [],
   "source": [
    "a = [1, 2, 3, 4, 5, 6, 7, 6, 5, 4, 3, 2, 1]\n",
    "b = [' ' * 2 * (7 - i) + 'look' * i for i in a]\n",
    "for line in b:\n",
    "    print(line)"
   ]
  },
  {
   "cell_type": "markdown",
   "metadata": {
    "id": "zTHd0l9j38xX"
   },
   "source": [
    "6.\t<b>String Formatting Operator</b>: You can string format a variable as you did in C language."
   ]
  },
  {
   "cell_type": "code",
   "execution_count": null,
   "metadata": {
    "id": "Z-tzQhSy38xX"
   },
   "outputs": [],
   "source": [
    "# print (\"My name is %s and weight is %d kg!\" % ('Zara', 21) )\n",
    "\n",
    "a = \"Zara\"\n",
    "b = 50\n",
    "\n",
    "print (\"My name is\" , a ,\"and weight is\", b , \"kg!\")         #or\n",
    "print (\"My name is %s and weight is %d kg!\" % (a, b))        #or\n",
    "print (\"My name is %s and weight is %d kg!\" % ('Zara', 50))\n",
    "\n",
    "#String formatting using f-strings\n",
    "#example1\n",
    "formatted_string = f\"My name is {a} and weight is {b} kg!\"\n",
    "print (formatted_string)\n",
    "\n",
    "#example2\n",
    "num1 = 10\n",
    "num2 = 20\n",
    "result = f\"The sum of {num1} and {num2} is {num1 + num2}.\"\n",
    "print (result)\n",
    "\n",
    "#example3\n",
    "pi = 3.14159\n",
    "formatted_pi = f\"Pi is approximately {pi:.2f}.\"\n",
    "print (formatted_pi)"
   ]
  },
  {
   "cell_type": "markdown",
   "metadata": {
    "id": "cCcIBJTT38xY"
   },
   "source": [
    "7.\t<b>String as a character array</b>: You can access individual character of a string by specifying the index"
   ]
  },
  {
   "cell_type": "code",
   "execution_count": null,
   "metadata": {
    "id": "wYArDr8a38xY"
   },
   "outputs": [],
   "source": [
    "fox = \"The quick brown fox jumps over the lazy dog\"\n",
    "print (fox[0])  #the first character\n",
    "print (fox[4])  #the fifth character\n",
    "print (fox[-1]) #the quick way to access the last character"
   ]
  },
  {
   "cell_type": "markdown",
   "metadata": {
    "id": "Fru7GxgT38xY"
   },
   "source": [
    "8.\t<b>Substrings (string slicing)</b>: The slice [m,n] contains the characters from index m through n-1"
   ]
  },
  {
   "cell_type": "code",
   "execution_count": null,
   "metadata": {
    "id": "yLlsgKx438xY"
   },
   "outputs": [],
   "source": [
    "dog = \"the lazy dog\"\n",
    "print (dog[:3])  #from beginning until index 3-1\n",
    "print (dog[9:]) #from 9 until the end\n",
    "print (dog[4:8]) #from index 4 until index 8-1"
   ]
  },
  {
   "cell_type": "markdown",
   "metadata": {
    "id": "spdDdtuS38xY"
   },
   "source": [
    "The dog string is shown along with its positive and negative indexes\n",
    "\n",
    "![image.png](attachment:image.png)\n",
    "\n",
    "Therefore you can also slice the string with negative indexes, such as\n"
   ]
  },
  {
   "cell_type": "code",
   "execution_count": null,
   "metadata": {
    "id": "RU5uxVUL38xZ"
   },
   "outputs": [],
   "source": [
    "print (dog[-12:3]) #same dog[:3]\n",
    "print (dog[-11:-4])"
   ]
  },
  {
   "cell_type": "markdown",
   "metadata": {
    "id": "zxUICoBP38xZ"
   },
   "source": [
    "<b>Bug hunt</b>: The following commands consist of bugs. Solve the bugs."
   ]
  },
  {
   "cell_type": "code",
   "execution_count": null,
   "metadata": {
    "id": "fp_2bdWU38xZ"
   },
   "outputs": [],
   "source": [
    "print (dog[-11:-10])  #this should produce ‘he’\n",
    "print (dog[-4:4])  #this should produce ‘lazy’"
   ]
  },
  {
   "cell_type": "markdown",
   "metadata": {
    "id": "yIwutGFc38xa"
   },
   "source": [
    "9.\t<b>Finding a substring using in operator</b>: The in operator allows you to check whether a character or substring is in the given string"
   ]
  },
  {
   "cell_type": "code",
   "execution_count": null,
   "metadata": {
    "id": "CuPdiMqL38xa"
   },
   "outputs": [],
   "source": [
    "fox = \"The quick brown fox jumps over the lazy dog\"\n",
    "item = input(\"What to search? \") # getting input from user\n",
    "if item in fox:\n",
    "    print ('found', item)\n",
    "else:\n",
    "    print (item, 'not found')"
   ]
  },
  {
   "cell_type": "markdown",
   "metadata": {
    "id": "SenFBjN938xa"
   },
   "source": [
    "10.\t<b>Finding a substring using find() method</b>: The find() methods allows you to find the position of a substring within a string"
   ]
  },
  {
   "cell_type": "code",
   "execution_count": 9,
   "metadata": {
    "id": "dyJTLMBL38xa"
   },
   "outputs": [
    {
     "name": "stdin",
     "output_type": "stream",
     "text": [
      "What to search?  not\n"
     ]
    },
    {
     "name": "stdout",
     "output_type": "stream",
     "text": [
      "-1\n"
     ]
    }
   ],
   "source": [
    "fox = \"The quick brown fox jumps over the lazy dog\"\n",
    "item = input(\"What to search? \") # getting input from user\n",
    "print (fox.find(item)) # -1 is returned if the item is not found"
   ]
  },
  {
   "cell_type": "markdown",
   "metadata": {
    "id": "A9ovQfqZ38xa"
   },
   "source": [
    "There are some other useful String Methods for your own exploration.\n",
    "\n",
    "Method |\tFunctionality\n",
    "-------|-----------------\n",
    "s.count(t,start,end) |\tCounts how many times string t occurs in string or in a substring of string if starting index start and ending index end are given.\n",
    "s.find(t) |\tindex of first instance of string t inside s (-1 if not found)\n",
    "s.rfind(t) |\tindex of last instance of string t inside s (-1 if not found)\n",
    "s.index(t) |\tlike s.find(t) except it raises ValueError if not found\n",
    "s.rindex(t) |\tlike s.rfind(t) except it raises ValueError if not found\n",
    "s.isalnum() |\tReturns true if string s has at least 1 character and all characters are alphanumeric and false otherwise.\n",
    "s.isalpha() |\tReturns true if string s has at least 1 character and all characters are alphabetic and false otherwise.\n",
    "s.isdigit() |\tReturns true if string s contains only digits and false otherwise.\n",
    "s.join(text) |\tcombine the words of the text into a string using s as the glue\n",
    "s.split(t) |\tsplit s into a list wherever a t is found (whitespace by default)\n",
    "s.splitlines() |\tsplit s into a list of strings, one per line\n",
    "s.lower() |\ta lowercased version of the string s\n",
    "s.upper() |\tan uppercased version of the string s\n",
    "s.title() |\ta title-cased version of the string s\n",
    "s.strip() |\ta copy of s without leading or trailing whitespace\n",
    "s.replace(t, u) |\treplace instances of t with u inside s\n"
   ]
  },
  {
   "cell_type": "markdown",
   "metadata": {
    "id": "zDv9RzG138xa"
   },
   "source": [
    "## Section B: Text Processing\n",
    "1.\t<b>Reading text</b>"
   ]
  },
  {
   "cell_type": "markdown",
   "metadata": {
    "id": "iTGILcpn38xb"
   },
   "source": [
    "1.1. <b>Reading text file</b>: You can read text (1) from local drive, (2) from Web with a URL\n",
    "\n",
    "a.\tTo read from local drive:"
   ]
  },
  {
   "cell_type": "code",
   "execution_count": null,
   "metadata": {
    "id": "mVobWQrz38xc"
   },
   "outputs": [],
   "source": [
    "f = open(r'C:\\Users\\User\\Desktop\\Lecturer\\Practical 1 Python Basic\\ipynb\\pg2554.txt') #you shall provide the full directory accordingly\n",
    "\n",
    "rawLocal = f.read()\n",
    "\n",
    "print (rawLocal[0:100])"
   ]
  },
  {
   "cell_type": "markdown",
   "metadata": {
    "id": "aiOMbWo838xc"
   },
   "source": [
    "1.2.\tTo read from Web (text file):"
   ]
  },
  {
   "cell_type": "code",
   "execution_count": null,
   "metadata": {
    "id": "WGFlfnq238xc"
   },
   "outputs": [],
   "source": [
    "import urllib.request\n",
    "\n",
    "url = \"http://www.gutenberg.org/files/2554/2554-0.txt\" #url library\n",
    "with urllib.request.urlopen(url) as f:                 #open this url\n",
    "    print(f.read())\n",
    "\n",
    "## or\n",
    "# f = urllib.request.urlopen(url)\n",
    "# text = f.read()\n",
    "\n",
    "#The b\"\\xef\\xbb\\xbf\" that you see at the beginning of the output represents a byte order mark (BOM) in UTF-8 encoding."
   ]
  },
  {
   "cell_type": "code",
   "execution_count": null,
   "metadata": {
    "id": "z8UKKNl838xd"
   },
   "outputs": [],
   "source": [
    "# To remove the order mark in content\n",
    "import urllib.request\n",
    "import re\n",
    "\n",
    "url = \"https://www.gutenberg.org/files/2552/2552-0.txt\"\n",
    "with urllib.request.urlopen(url) as f:\n",
    "    content = f.read().decode('utf-8')       # Decode bytes to string using UTF-8 encoding\n",
    "    words = re.findall(r'\\b\\w+\\b', content)  # Use regex to find all words\n",
    "    first_100_words = ' '.join(words[:100])  # Join the first 100 words into a single string\n",
    "    print(words)"
   ]
  },
  {
   "cell_type": "markdown",
   "metadata": {
    "id": "DxXlMuER38xd"
   },
   "source": [
    "1.3.\tTo read from Web (HTML) and deal with the content"
   ]
  },
  {
   "cell_type": "code",
   "execution_count": null,
   "metadata": {
    "id": "rUB2cErr38xd"
   },
   "outputs": [],
   "source": [
    "import urllib.request\n",
    "with urllib.request.urlopen('http://www.python.org/') as f:\n",
    "    rawHTML = f.read()\n",
    "print(rawHTML[:300])"
   ]
  },
  {
   "cell_type": "markdown",
   "metadata": {
    "id": "Hho84yQ138xd"
   },
   "source": [
    "<b>Preprocessing HTML text</b>\n",
    "\n",
    "To get text out of HTML we will use a Python library called BeautifulSoup, available from http://www.crummy.com/software/BeautifulSoup/.\n",
    "\n",
    "Type the following commands on the Python Editor"
   ]
  },
  {
   "cell_type": "code",
   "execution_count": null,
   "metadata": {
    "id": "IsNDcTtN38xd"
   },
   "outputs": [],
   "source": [
    "from bs4 import BeautifulSoup"
   ]
  },
  {
   "cell_type": "code",
   "execution_count": null,
   "metadata": {
    "id": "TBFUSpdH38xd"
   },
   "outputs": [],
   "source": [
    "htmlText = BeautifulSoup(rawHTML).get_text()\n",
    "print (htmlText [:300])"
   ]
  },
  {
   "cell_type": "markdown",
   "metadata": {
    "id": "yv-Qr_TE38xi"
   },
   "source": [
    "Next Practical - REGEX"
   ]
  },
  {
   "cell_type": "markdown",
   "metadata": {
    "id": "kYveYklD38xi"
   },
   "source": [
    "# Exercise"
   ]
  },
  {
   "cell_type": "code",
   "execution_count": 3,
   "metadata": {
    "id": "wGwCmhkY38xi"
   },
   "outputs": [
    {
     "data": {
      "text/plain": [
       "'I Love Python'"
      ]
     },
     "execution_count": 3,
     "metadata": {},
     "output_type": "execute_result"
    }
   ],
   "source": [
    "# Write a Python function that takes in a string and returns a new string where the first letter of each word is capitalized,\n",
    "# and all other letters are lowercase.\n",
    "# example: input >> i LoVE pyThon  output >> I Love Python\n",
    "s = \"i LoVE pyThon  output\"\n",
    "s= s.title()\n",
    "s= s.replace(\"  Output\",\"\")\n",
    "s"
   ]
  },
  {
   "cell_type": "code",
   "execution_count": 5,
   "metadata": {
    "id": "dGKINesZ38xi"
   },
   "outputs": [
    {
     "data": {
      "text/plain": [
       "'Hello World!'"
      ]
     },
     "execution_count": 5,
     "metadata": {},
     "output_type": "execute_result"
    }
   ],
   "source": [
    "# Write a Python program that combines two strings together with a space in between.\n",
    "# example:\n",
    "# string1 = \"Hello\"\n",
    "# string2 = \"World!\"\n",
    "# output >> Hello World!\n",
    "s1= \"Hello\"\n",
    "s2 = \"World!\"\n",
    "s = s1+ \" \"+s2\n",
    "s"
   ]
  },
  {
   "cell_type": "code",
   "execution_count": 7,
   "metadata": {
    "id": "6yzcWvqT38xi"
   },
   "outputs": [
    {
     "name": "stdout",
     "output_type": "stream",
     "text": [
      "'gram' found in 'Python programming is fun'\n"
     ]
    }
   ],
   "source": [
    "# Write a Python function that checks if a substring is present within a given string using the 'in' operator.\n",
    "main_string = \"Python programming is fun\"\n",
    "sub_string = \"gram\"\n",
    "# output >> 'gram' found in 'Python programming is fun'\n",
    "if sub_string in main_string:\n",
    "    print(f\"'{sub_string}' found in '{main_string}'\")\n"
   ]
  },
  {
   "cell_type": "code",
   "execution_count": 10,
   "metadata": {
    "id": "R-ARxv4e38xj"
   },
   "outputs": [
    {
     "name": "stdin",
     "output_type": "stream",
     "text": [
      "Enter the item u wan to find in the string:  fun\n"
     ]
    },
    {
     "name": "stdout",
     "output_type": "stream",
     "text": [
      "'fun' found at index 22 in 'Python programming is fun'\n"
     ]
    }
   ],
   "source": [
    "# Write a Python function that finds the index of the first occurrence of a substring in a given string using the find() method.\n",
    "main_string = \"Python programming is fun\"\n",
    "sub_string = \"gram\"\n",
    "# output >>  'fun' found at index 22 in 'Python programming is fun'\n",
    "s = input(\"Enter the item u wan to find in the string: \")\n",
    "num = main_string.find(s)\n",
    "\n",
    "if num == -1:\n",
    "    print(\"String not found\")\n",
    "else:\n",
    "    print(f\"'{s}' found at index {num} in '{main_string}'\")"
   ]
  },
  {
   "cell_type": "code",
   "execution_count": 12,
   "metadata": {
    "id": "cT5SDKQL38xj"
   },
   "outputs": [
    {
     "name": "stdout",
     "output_type": "stream",
     "text": [
      "b\"\\xef\\xbb\\xbfThe Project Gutenberg EBook of Thankful's Inheritance, by Joseph C. Lincoln\\r\\n\\r\\nThis eBook is for \"\n"
     ]
    }
   ],
   "source": [
    "# Use urllib.request to read first 100 words from text file from https://www.gutenberg.org/files/2552/2552-0.txt\n",
    "# output >> b\"\\xef\\xbb\\xbfThe Project Gutenberg EBook of Thankful's Inheritance, by Joseph C. Lincoln\\r\\n\\r\\nThis eBook is for \"\n",
    "import urllib.request\n",
    "with urllib.request.urlopen('https://www.gutenberg.org/files/2552/2552-0.txt') as f:\n",
    "    rawHTML = f.read()\n",
    "print(rawHTML[:100])"
   ]
  },
  {
   "cell_type": "code",
   "execution_count": 14,
   "metadata": {
    "id": "9ILOhqAr38xj",
    "scrolled": true
   },
   "outputs": [
    {
     "name": "stdout",
     "output_type": "stream",
     "text": [
      "\n",
      "\n",
      "\n",
      "\n",
      "Tunku Abdul Rahman University of Management & Technology - Kuala Lumpur Main Campus\n",
      "\n",
      "\n",
      "\n",
      "\n",
      "\n",
      "\n",
      "\n",
      "\n",
      "\n",
      "\n",
      "\n",
      "\n",
      "\n",
      "\n",
      "\n",
      "\n",
      "\n",
      "\n",
      "\n",
      "\n",
      "\n",
      "\n",
      "\n",
      "\n",
      "\n",
      "\n",
      "\n",
      "\n",
      "\n",
      "\n",
      "\n",
      "\n",
      "\n",
      "\n",
      "\n",
      "\n",
      "\n",
      "\n",
      "\n",
      "\n",
      "\n",
      "\n",
      "\n",
      "\n",
      "\n",
      "\n",
      "\n",
      "\n",
      "\n",
      "\n",
      "        \n",
      "\n",
      "          \n",
      "          \n",
      "         \n",
      " \n",
      "\n",
      "\n",
      "\n",
      "\n",
      "\n",
      "\n",
      "\n",
      "\n",
      "\n",
      "\n",
      "\n",
      "\n",
      "\n",
      "\n",
      "\n",
      "\n",
      " \n",
      "\n",
      "   Home      Virtual TourMain EntranceTun Tan Siew Sin BuildingCyber CentreMain HallLibrarySpo\n"
     ]
    }
   ],
   "source": [
    "# Read the content from https://www.tarc.edu.my/kl/ and clean the text using BeautifulSoup\n",
    "with urllib.request.urlopen('https://www.tarc.edu.my/kl/') as f:\n",
    "    rawHTML = f.read()\n",
    "\n",
    "from bs4 import BeautifulSoup\n",
    "htmlText = BeautifulSoup(rawHTML).get_text()\n",
    "print (htmlText [:300])"
   ]
  }
 ],
 "metadata": {
  "colab": {
   "provenance": []
  },
  "kernelspec": {
   "display_name": "Python 3 (ipykernel)",
   "language": "python",
   "name": "python3"
  },
  "language_info": {
   "codemirror_mode": {
    "name": "ipython",
    "version": 3
   },
   "file_extension": ".py",
   "mimetype": "text/x-python",
   "name": "python",
   "nbconvert_exporter": "python",
   "pygments_lexer": "ipython3",
   "version": "3.11.1"
  }
 },
 "nbformat": 4,
 "nbformat_minor": 4
}
