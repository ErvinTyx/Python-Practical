{
 "cells": [
  {
   "cell_type": "markdown",
   "metadata": {},
   "source": [
    "# Practical 1 (Part 3) Regular Expression\r\n",
    "A RegEx, or Regular Expression, is a sequence of characters that forms a search pattern.\r\n",
    "\r\n",
    "\r\n",
    "RegEx can be used to check if a string contains the specified search pattern.\r\n",
    "\r\n",
    "Regex is machine understadable code pattern to match the pattern of a word or a paragraph."
   ]
  },
  {
   "cell_type": "markdown",
   "metadata": {},
   "source": [
    "## RegEx Module"
   ]
  },
  {
   "cell_type": "markdown",
   "metadata": {},
   "source": [
    "Python has a built-in package called re, which can be used to work with Regular Expressions."
   ]
  },
  {
   "cell_type": "code",
   "execution_count": null,
   "metadata": {},
   "outputs": [],
   "source": [
    "import re #https://docs.python.org/3/library/re.html"
   ]
  },
  {
   "cell_type": "markdown",
   "metadata": {},
   "source": [
    "## RegEx in Python\n",
    "When you have imported the re module, you can start using regular expressions for:\n",
    "<br  /><b>findall: </b>\tReturns a list containing all matches\n",
    "<br  /><b>search: </b>\tReturns a Match object if there is a match anywhere in the string\n",
    "<br  /><b>split:</b>\tReturns a list where the string has been split at each match\n",
    "<br  /><b>sub: </b>\tReplaces one or many matches with a string"
   ]
  },
  {
   "cell_type": "markdown",
   "metadata": {},
   "source": [
    "## search() Function\n",
    "A Regular Expression (RegEx) is a sequence of characters that defines a search pattern:"
   ]
  },
  {
   "cell_type": "code",
   "execution_count": null,
   "metadata": {},
   "outputs": [],
   "source": [
    "import re\n",
    "\n",
    "txt = \"abs\"\n",
    "x = re.search(\"^a.*s$\", txt) #human instruction = word start w2ith a, end with s,in between i don't care about the no. of words, d, a. symbol, except new line\n",
    "print (x)\n",
    "\n",
    "#regex101 and https://www.w3schools.com/python/python_regex.asp"
   ]
  },
  {
   "cell_type": "code",
   "execution_count": null,
   "metadata": {},
   "outputs": [],
   "source": [
    "#Check valid email address\n",
    "import re\n",
    "email = \"test@gmail.com\"\n",
    "x = re.search(\"^[a-zA-Z0-9._%+-]+@[a-zA-Z0-9.-]+\\.[a-zA-Z]{2,}$\",email)\n",
    "print (x)"
   ]
  },
  {
   "cell_type": "markdown",
   "metadata": {},
   "source": [
    "### Example:\n",
    "Search the string to see if it starts with \"The\" and ends with \"Setapak\":"
   ]
  },
  {
   "cell_type": "code",
   "execution_count": null,
   "metadata": {},
   "outputs": [],
   "source": [
    "txt = \"The rain in Setapak\"\n",
    "txt2 = \"The rain in Kuala Lumpur\"\n",
    "x = re.search(\"^The.*Setapak$\", txt)\n",
    "print(x)"
   ]
  },
  {
   "cell_type": "code",
   "execution_count": null,
   "metadata": {},
   "outputs": [],
   "source": [
    "txt = \"The rain in Setapak\"\n",
    "txt2 = \"The rain in Kuala Lumpur\"\n",
    "x = re.search(\"^The.*Setapak$\", txt)\n",
    "\n",
    "if x:\n",
    "  print(\"Search successful.\")\n",
    "else:\n",
    "  print(\"Search unsuccessful.\")\t"
   ]
  },
  {
   "cell_type": "markdown",
   "metadata": {},
   "source": [
    "## Different between Match and Search"
   ]
  },
  {
   "cell_type": "markdown",
   "metadata": {},
   "source": [
    "In the re library in Python, both the match() and search() functions are used for pattern matching and searching within strings. However, there are a few key differences between the two:<br>\r\n",
    "<br>\r\n",
    "**match():** This function checks for a match at the beginning of the string. It tries to match the pattern only at the start of the string. If the pattern is found at the beginning of the string, a match object is returned; otherwise, it returns None.\r\n",
    "<br>\r\n",
    "**search():** This function scans the entire string for a match. It looks for the first occurrence of the pattern within the string. If a match is found anywhere in the string, a match object is returned; otherwise, it returns None.\r\n",
    "\r\n",
    "Here's an example that demonstrates the difference:"
   ]
  },
  {
   "cell_type": "code",
   "execution_count": null,
   "metadata": {},
   "outputs": [],
   "source": [
    "txt = \"The rain in Setapak\"\n",
    "txt2 = \"OMG, The rain in Setapak\"\n",
    "x = re.search(\"rain\", txt) #find something anywhere in the string and return a match object.\n",
    "y = re.match(\"rain\", txt2) #find something at the beginning of the string and return a match object.\n",
    "\n",
    "if x:\n",
    "  print(\"Search successful.\") \n",
    "else:\n",
    "  print(\"Sorry, the string is not found. \")\t\n",
    "\n",
    "if y:\n",
    "  print(\"Search successful.\") \n",
    "else:\n",
    "  print(\"Sorry, the string is not found. \")\t"
   ]
  },
  {
   "cell_type": "markdown",
   "metadata": {},
   "source": [
    "## findall() Function\n",
    "Returns a list containing all matches"
   ]
  },
  {
   "cell_type": "code",
   "execution_count": null,
   "metadata": {},
   "outputs": [],
   "source": [
    "import re\n",
    "\n",
    "txt = \"The rain in Sungai Kapal, Johor\"\n",
    "x = re.findall(\"ai\", txt)\n",
    "print(x)\n",
    "print(len(x))"
   ]
  },
  {
   "cell_type": "markdown",
   "metadata": {},
   "source": [
    "## split() Function\n",
    "Returns a list where the string has been split at each match"
   ]
  },
  {
   "cell_type": "code",
   "execution_count": null,
   "metadata": {},
   "outputs": [],
   "source": [
    "import re\n",
    "\n",
    "txt = \"The rain in Sungai Kapal\"\n",
    "x = re.split(\"\\s\", txt)  \n",
    "print(x)\n",
    "print (len(x))"
   ]
  },
  {
   "cell_type": "code",
   "execution_count": null,
   "metadata": {},
   "outputs": [],
   "source": [
    "txt = \"FuJiang#TangHua#WenJie#EeMin\"\n",
    "\n",
    "x = txt.split(\"#\")\n",
    "\n",
    "print(x)\n",
    "\n",
    "print(len(x))\n",
    "#How many person? #len(x)\n",
    "print('There are',len(x), 'students here.')"
   ]
  },
  {
   "cell_type": "code",
   "execution_count": null,
   "metadata": {},
   "outputs": [],
   "source": [
    "import re\n",
    "import easygui #pip install easygui\n",
    "title = \"Words Calculator\"\n",
    "\n",
    "txt = easygui.enterbox(\"Please input your sentence here...\", title)\n",
    "\n",
    "x = re.split(\"\\s\", txt)\n",
    "print('You entered',len(x), 'words just now.')"
   ]
  },
  {
   "cell_type": "markdown",
   "metadata": {},
   "source": [
    "## sub() Function\n",
    "Replaces one or many matches with a string"
   ]
  },
  {
   "cell_type": "code",
   "execution_count": null,
   "metadata": {},
   "outputs": [],
   "source": [
    "import re\n",
    "\n",
    "txt = \"The rain in Sungai Kapal\"\n",
    "#x = re.sub(\"\\s\", \"9\", txt)\n",
    "x = re.sub(\"\\s\", \"*\", txt)\n",
    "print(x)"
   ]
  },
  {
   "cell_type": "code",
   "execution_count": null,
   "metadata": {},
   "outputs": [],
   "source": [
    "import re\n",
    "\n",
    "txt = \"i love apple\"\n",
    "x = re.sub(\"apple\", \"***\", txt)\n",
    "print(x)"
   ]
  },
  {
   "cell_type": "code",
   "execution_count": null,
   "metadata": {},
   "outputs": [],
   "source": [
    "import re\n",
    "\n",
    "email = \"jolinTsai@gmail.com\"\n",
    "x = re.sub(\"gmail\", \"***\", email)\n",
    "print(x)"
   ]
  },
  {
   "cell_type": "markdown",
   "metadata": {},
   "source": [
    "# EasyGui"
   ]
  },
  {
   "cell_type": "code",
   "execution_count": null,
   "metadata": {},
   "outputs": [],
   "source": [
    "import sys\n",
    "!{sys.executable} -m pip install easygui\n",
    "\n",
    "#or using anconda prompt\n",
    "#$ python -m pip install easygui\n",
    "#or pip install easygui"
   ]
  },
  {
   "cell_type": "code",
   "execution_count": null,
   "metadata": {},
   "outputs": [],
   "source": [
    "import re\n",
    "import easygui #pip install easygui\n",
    "title = \"Words Calculator\"\n",
    "txt = easygui.enterbox(\"Please input your sentence here...\", title)\n",
    "x = re.split(\"\\s\", txt)\n",
    "print('You entered',len(x), 'words just now.')"
   ]
  },
  {
   "cell_type": "markdown",
   "metadata": {},
   "source": [
    "# Exercise"
   ]
  },
  {
   "cell_type": "code",
   "execution_count": null,
   "metadata": {},
   "outputs": [],
   "source": [
    "# Write a function find_email that uses re.search() to find an email address in a given string and returns it. \n",
    "# If no email is found, return None.\n",
    "# text = \"Contact us at gohcp@tarc.edu.my for inquiries.\"\n",
    "# output >> gohcp@tarc.edu.my \n"
   ]
  },
  {
   "cell_type": "code",
   "execution_count": null,
   "metadata": {},
   "outputs": [],
   "source": [
    "# Write a function find_numbers that uses re.findall() to find all numbers (integer or floating point) \n",
    "# in a given string and returns them as a list of strings.\n",
    "# text = \"There are 3 numbers: 33, 12.7, and 6.18.\"\n",
    "# output >> ['3', '33', '12.7', '6.18']\n"
   ]
  },
  {
   "cell_type": "code",
   "execution_count": null,
   "metadata": {},
   "outputs": [],
   "source": [
    "# Write a function split_sentence that uses re.split() to split a given string into a list of words based on whitespace and punctuation marks.\n",
    "# text = \"Hi! Welcome to my AI course!\"\n",
    "# output >> ['Hi', 'Welcome', 'to', 'my', 'AI', 'course']\n"
   ]
  },
  {
   "cell_type": "code",
   "execution_count": null,
   "metadata": {},
   "outputs": [],
   "source": [
    "# Write a function censor_words that uses re.sub() to censor specific words from a given string with asterisks (*). \n",
    "# The function should take a list of words to censor and replace them in the string.\n",
    "# text = \"The cat and the dog are friends, but the dog is naughty.\"\n",
    "# output >> The *** and the *** are friends, but the *** is naughty.\n"
   ]
  }
 ],
 "metadata": {
  "kernelspec": {
   "display_name": "Python 3 (ipykernel)",
   "language": "python",
   "name": "python3"
  },
  "language_info": {
   "codemirror_mode": {
    "name": "ipython",
    "version": 3
   },
   "file_extension": ".py",
   "mimetype": "text/x-python",
   "name": "python",
   "nbconvert_exporter": "python",
   "pygments_lexer": "ipython3",
   "version": "3.11.7"
  }
 },
 "nbformat": 4,
 "nbformat_minor": 4
}
