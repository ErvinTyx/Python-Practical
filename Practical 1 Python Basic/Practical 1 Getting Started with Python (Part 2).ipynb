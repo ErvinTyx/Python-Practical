{
 "cells": [
  {
   "cell_type": "markdown",
   "metadata": {
    "id": "hevv0ra7Lw3Q"
   },
   "source": [
    "# Practical 1: Getting Started with Python (Part 2)"
   ]
  },
  {
   "cell_type": "markdown",
   "metadata": {
    "id": "H2H-7sbNLw3T"
   },
   "source": [
    "## 6 - Collections\n",
    "In python there are four fundamental types of sequences to hold collections of items.\n",
    "* List\n",
    "* Tuple\n",
    "* Set\n",
    "* Dictionary"
   ]
  },
  {
   "cell_type": "markdown",
   "metadata": {
    "id": "ZWRvo4O3Lw3T"
   },
   "source": [
    "## 6.1 - List\n",
    "Lists are collections of *heterogeneous objects* (values from different data types), which can be of any type, including other lists. Lists are **mutable** (edit/delete/add/modify), i.e. you can modify the members of the list"
   ]
  },
  {
   "cell_type": "markdown",
   "metadata": {
    "id": "Qsgde5RrLw3U"
   },
   "source": [
    "### 6.1.1 - Creating a list"
   ]
  },
  {
   "cell_type": "code",
   "execution_count": null,
   "metadata": {
    "id": "aTjetHWdLw3U"
   },
   "outputs": [],
   "source": [
    "numbers = [1, 2, 3, 4, 5, 6, 7]\n",
    "student = ['Kevin', 18, 3.85, ['BACS2003', 'BACS2063']]\n",
    "\n",
    "print (numbers)\n",
    "print (student)"
   ]
  },
  {
   "cell_type": "markdown",
   "metadata": {
    "id": "_jPadCC2Lw3V"
   },
   "source": [
    "### 6.1.2 - Modifying a list (Mutable)"
   ]
  },
  {
   "cell_type": "code",
   "execution_count": null,
   "metadata": {
    "id": "1hUnug-ELw3W"
   },
   "outputs": [],
   "source": [
    "numbers[2] = 99  \t# modify item with index 2\n",
    "print(numbers + student) # to combine 2 lists\n",
    "\n",
    "numbers.append(100) \t# append a new value to last\n",
    "print(numbers)\n",
    "\n",
    "numbers.insert(1, 'C')\t# insert a new value to index 1\n",
    "print(numbers)\n",
    "\n",
    "numbers.remove(1) \t# remove the item with value 1\n",
    "print(numbers)\n",
    "\n",
    "numbers = [1, 2, 3, 4, 5, 6, 7]\n",
    "del numbers[1]  # delete the item with index 1\n",
    "print(numbers)\n",
    "\n",
    "numbers.pop(1)\t# remove the item with index 1\n",
    "print(numbers)  # pop = del\n"
   ]
  },
  {
   "cell_type": "markdown",
   "metadata": {
    "id": "MMUWjJvgLw3W"
   },
   "source": [
    "### 6.1.3  - List Comprehension\n",
    "Python supports **list comprehension**, which allows you to do some modification on all elements within a list, or filter out some elements from a list. Example is as follows:"
   ]
  },
  {
   "cell_type": "code",
   "execution_count": null,
   "metadata": {
    "id": "JmnAoh0CLw3W"
   },
   "outputs": [],
   "source": [
    "mark_list = sorted([0.4, 0.5, 0.7, 0.6, 0.3]) # sort the list ascendingly\n",
    "print(\"mark_list = \", mark_list)\n",
    "\n",
    "new_marks = []      #new list\n",
    "\n",
    "for m in mark_list:        #mark_list = [0.3,0.4,0.5,0.6,0.7]\n",
    "    if m > 0.5:\n",
    "        res = m * 100       #0.6*100 store into res\n",
    "        new_marks.append (res)    #append/add this res value into new_marks list\n",
    "\n",
    "# #or try in-line statement\n",
    "# new_marks = [m * 100 if m > 0.5 else m for m in mark_list] \n",
    "# new_marks.sort(reverse=True) # sort the list in descending order\n",
    "# print(\"new_list = \",  new_marks)\n",
    "\n",
    "# =============================================================================\n",
    "# new_marks = [ m * 100 if m > 0.5 else m * 30 for m in mark_list ] \n",
    "# for m in mark_list:\n",
    "#     if m > 0.5:\n",
    "#         res = m * 100\n",
    "#         new_marks.append (res)\n",
    "#     else:\n",
    "#         res = m*30\n",
    "#         new_marks.append (res)"
   ]
  },
  {
   "cell_type": "markdown",
   "metadata": {
    "id": "6ZhSLef0Lw3X"
   },
   "source": [
    "## 6.2 - Tuple\n",
    "Tuples are similar to normal lists but they are **immutable**, i.e. you cannot add, delete or make assignments to items."
   ]
  },
  {
   "cell_type": "markdown",
   "metadata": {
    "id": "a5K2hvnQLw3X"
   },
   "source": [
    "### 6.2.1 - Creating a tuple"
   ]
  },
  {
   "cell_type": "code",
   "execution_count": null,
   "metadata": {
    "id": "3XwmLYJULw3X"
   },
   "outputs": [],
   "source": [
    "coordinate = (3.12345, 101.23423)\n",
    "print(coordinate[0]) #ordered, can call the member\n",
    "coordinate.pop (1)"
   ]
  },
  {
   "cell_type": "markdown",
   "metadata": {
    "id": "hpKAnn_VLw3X"
   },
   "source": [
    "### 6.2.2 - Immutable tuple\n",
    "Now try to change the coordinate data above and run the command. Observe the output."
   ]
  },
  {
   "cell_type": "code",
   "execution_count": null,
   "metadata": {
    "id": "-O--vi_SLw3Y"
   },
   "outputs": [],
   "source": [
    "coordinate[0] = 0"
   ]
  },
  {
   "cell_type": "markdown",
   "metadata": {
    "id": "SC6kNS0ILw3Y"
   },
   "source": [
    "### 6.2.3 - Unpack a tuple/list\n",
    "See the example below to unpack the coordinate into 2 elements, x and y (applicable to list and tuple)"
   ]
  },
  {
   "cell_type": "code",
   "execution_count": null,
   "metadata": {
    "id": "hsq8eatbLw3Y"
   },
   "outputs": [],
   "source": [
    "#in C++\n",
    "coordinate = (3.12345, 101.23423)\n",
    "a = coordinate [0]\n",
    "b = coordinate [1]\n",
    "print ('x = ', a, 'y = ', b)"
   ]
  },
  {
   "cell_type": "code",
   "execution_count": null,
   "metadata": {
    "id": "n0fL04VrLw3Y"
   },
   "outputs": [],
   "source": [
    "#in python\n",
    "coordinate = (3.12345, 101.23423)\n",
    "x, y  = coordinate\n",
    "print('x = ', x, 'y = ', y)"
   ]
  },
  {
   "cell_type": "markdown",
   "metadata": {
    "id": "uxF_QNipLw3Y"
   },
   "source": [
    "## 6.3 - Set\n",
    "Sets are unordered.\n",
    "Set elements are unique. Duplicate elements are not allowed.\n",
    "A set itself may be modified, but the elements contained in the set must be of an immutable type."
   ]
  },
  {
   "cell_type": "markdown",
   "metadata": {
    "id": "AbyW2AkiLw3Z"
   },
   "source": [
    "### 6.3.1 - Creating sets"
   ]
  },
  {
   "cell_type": "markdown",
   "metadata": {
    "id": "QMfXrwy1Lw3Z"
   },
   "source": [
    "In Python, the syntax for defining a set is as follows:\n",
    "\n",
    "**my_set = {element1, element2, element3, ...}**\n",
    "\n",
    "In this syntax:<br>\n",
    "1. Curly braces {} are used to enclose the elements of the set.\n",
    "2. Each element is separated by a comma.\n",
    "3. Elements within a set can be of different data types, but they must be immutable objects. Examples of immutable objects include integers, floats, strings, and tuples."
   ]
  },
  {
   "cell_type": "code",
   "execution_count": null,
   "metadata": {
    "id": "pS1fXoP-Lw3Z"
   },
   "outputs": [],
   "source": [
    "# Set of integers\n",
    "my_set = {1, 2, 3, 4, 5}\n",
    "print (my_set)\n",
    "\n",
    "# Set of strings\n",
    "my_set = {\"apple\", \"banana\", \"cherry\"}\n",
    "print (my_set)\n",
    "\n",
    "# Set of mixed data types\n",
    "my_set = {1, \"hello\", 3.14, (4, 5)}\n",
    "print (my_set)"
   ]
  },
  {
   "cell_type": "markdown",
   "metadata": {
    "id": "n3ftGHusLw3Z"
   },
   "source": [
    "When we say that \"elements within a set must be immutable\" in Python, it means that the objects used as elements in a set must be of immutable data types. Immutable objects are those whose values cannot be changed after they are created. In contrast, mutable objects can have their values modified even after creation.\n",
    "\n",
    "In Python, examples of immutable objects include integers, floats, strings, and tuples. On the other hand, mutable objects include lists, dictionaries, and sets themselves.\n",
    "\n",
    "Sets in Python require their elements to be of immutable types to ensure the set's integrity and efficient operations such as membership checking and element uniqueness."
   ]
  },
  {
   "cell_type": "code",
   "execution_count": null,
   "metadata": {
    "id": "KiNJ_-MJLw3Z"
   },
   "outputs": [],
   "source": [
    "# Valid set with immutable elements\n",
    "my_set = {1, 2, \"hello\", (4, 5)}\n",
    "print(my_set)\n",
    "\n",
    "# Invalid set with a mutable element\n",
    "my_set = {1, 2, [3, 4]}  # Lists are mutable\n",
    "print(my_set)"
   ]
  },
  {
   "cell_type": "markdown",
   "metadata": {
    "id": "2IguYqmLLw3Z"
   },
   "source": [
    "**Alternative:**\n",
    "\n",
    "Here's the syntax for creating a set using the set() constructor:\n",
    "\n",
    "**my_set = set(iterable)**\n",
    "\n",
    "In this syntax:<br>\n",
    "The iterable parameter is optional. It can be any iterable object, such as a list, tuple, or string, from which the set is created.\n",
    "If no iterable is provided, an empty set is created."
   ]
  },
  {
   "cell_type": "code",
   "execution_count": null,
   "metadata": {
    "id": "uIfUjKjiLw3a"
   },
   "outputs": [],
   "source": [
    "# Creating a set from a list\n",
    "my_set = set([1, 2, 3, 4, 5])\n",
    "print (my_set)\n",
    "\n",
    "# Creating a set from a tuple\n",
    "my_set = set((1, 2, 3, 4, 5))\n",
    "print (my_set)\n",
    "\n",
    "# Creating a set from a string\n",
    "my_set = set(\"hello\")\n",
    "print (my_set)"
   ]
  },
  {
   "cell_type": "markdown",
   "metadata": {
    "id": "pIFDZKr_Lw3a"
   },
   "source": [
    "### 6.3.2 - Set is unordered\n",
    "you cannot access set member through index, as set is an unordered collection. Try to run the command below and observe the output."
   ]
  },
  {
   "cell_type": "code",
   "execution_count": null,
   "metadata": {
    "id": "jyKkB0Q1Lw3a"
   },
   "outputs": [],
   "source": [
    "print(s[0])"
   ]
  },
  {
   "cell_type": "markdown",
   "metadata": {
    "id": "9jKspz6NLw3a"
   },
   "source": [
    "### 6.3.3 -  Add/remove a new element to a set\n",
    "Use **add()** or **remove** to add/remove a new element to a set, e.g"
   ]
  },
  {
   "cell_type": "code",
   "execution_count": null,
   "metadata": {
    "id": "fbc7vbq0Lw3a"
   },
   "outputs": [],
   "source": [
    "numbers = set ([1, 2, 3, 4, 5, 6, 7])\n",
    "numbers.add(8) \t# append a new value to last\n",
    "print(numbers)\n",
    "\n",
    "s.add(0)\n",
    "s.remove(6)\n",
    "print('s=',s)"
   ]
  },
  {
   "cell_type": "markdown",
   "metadata": {
    "id": "PSdSE_B1Lw3a"
   },
   "source": [
    "### 6.3.4. - Set Manipulation\n",
    "you can check the union, intersection, difference and symmetric difference of 2 sets, etc., as follow"
   ]
  },
  {
   "cell_type": "code",
   "execution_count": null,
   "metadata": {
    "id": "eBy52yzZc5x5",
    "outputId": "6cd94c7e-9c75-4830-bc22-92a0c335b5b4"
   },
   "outputs": [],
   "source": [
    "from IPython.display import Image\n",
    "Image(filename='manipulation.png', width=500, height=300)"
   ]
  },
  {
   "cell_type": "code",
   "execution_count": null,
   "metadata": {
    "id": "7OFfi48pLw3a",
    "scrolled": true
   },
   "outputs": [],
   "source": [
    "dsa = set([\"Tom\", \"Jake\", \"John\", \"Eric\",\"Tom\"])\n",
    "web = set([\"Tom\", \"Jake\", \"Jill\", \"Mac\"])\n",
    "ai = set([\"William\", \"Andy\"])\n",
    "\n",
    "#Union of two sets: Find all people have registered either dsa or web\n",
    "print('dsa | web = ', dsa.union(web))\n",
    "print('dsa | web = ', dsa | web)\n",
    "\n",
    "#Intersection of two sets: People have registered for both dsa and web\n",
    "print('dsa & web = ', dsa.intersection(web))\n",
    "print('dsa & web = ', dsa & web)\n",
    "\n",
    "#Intersection of two sets: People have registered for both dsa and ai\n",
    "print('dsa & ai = ', dsa.intersection(ai))\n",
    "print('dsa & ai = ', dsa & ai)\n",
    "\n",
    "#Difference of two sets: People have registered for dsa but not for web\n",
    "print('dsa - web = ', dsa.difference(web))\n",
    "print('dsa - web = ', dsa - web)\n",
    "\n",
    "#Symmetric Difference between two sets: People that attend only dsa or web\n",
    "print('dsa ^ web = ', dsa.symmetric_difference(web))\n",
    "print('dsa ^ web = ', dsa ^ web)   #return value\n",
    "\n",
    "#Check for disjoint or superset  #chekcing purpose = True/False\n",
    "if dsa.isdisjoint(ai):  #True\n",
    "    print(\"No one registered for both of DSA and AI\")\n",
    "if ai.issubset(dsa):\n",
    "    print(\"All AI students already registered for DSA\")\n",
    "if dsa.issuperset(ai):\n",
    "    print(\"All AI students already registered for DSA\")\n"
   ]
  },
  {
   "cell_type": "markdown",
   "metadata": {
    "id": "zJfcSPk2Lw3b"
   },
   "source": [
    "## 6.4 - Dictionary"
   ]
  },
  {
   "cell_type": "markdown",
   "metadata": {
    "id": "FYj2G09gLw3b"
   },
   "source": [
    "__1. Dictionary:__ Dictionaries are a collection of items in the form of a (key, value) pair. Each item is identified by a key. Unlike lists, dictionaries are unordered sets, which are accessed via keys but not via their position.\n",
    "\n",
    "Here's the basic syntax for creating a dictionary:<br>\n",
    "**my_dict = {key1: value1, key2: value2, key3: value3, ...}**\n",
    "\n",
    "In this syntax:<br>\n",
    "1. Curly braces {} are used to enclose the key-value pairs.<br>\n",
    "2. Each key-value pair is separated by a colon : character.<br>\n",
    "3. Each key is unique within the dictionary and must be an immutable object, such as a string or a number.<br>\n",
    "4. Values can be of any data type and can be mutable or immutable.<br>\n",
    "\n",
    "In Python, examples of immutable objects include integers, floats, strings, and tuples. On the other hand, mutable objects include lists, dictionaries, and sets themselves."
   ]
  },
  {
   "cell_type": "code",
   "execution_count": null,
   "metadata": {
    "id": "s_QxnBvDLw3b"
   },
   "outputs": [],
   "source": [
    "# First way to declare a dictionary\n",
    "student1 = {'name':['James','Bond'],'age':20,'level':'BSc', 'programme':'SF','year':2,'registration_id':'16WAD1234',\n",
    "           'tel':'0110101010'}\n",
    "\n",
    "name = student1['name']\n",
    "\n",
    "print(student1)"
   ]
  },
  {
   "cell_type": "markdown",
   "metadata": {
    "id": "yEcXFu4nLw3b"
   },
   "source": [
    "There are a few alternative ways to declare a dictionary in Python. Here are some of the options:<br>\n",
    "1. Using the dict() constructor:<br>\n",
    "    **my_dict = dict()<br>**\n",
    "    This creates an empty dictionary.<br>\n",
    "2. Using key-value pairs as arguments to the dict() constructor:<br>\n",
    "    **my_dict = dict(key1=value1, key2=value2, key3=value3)<br>**\n",
    "    This syntax allows you to directly specify the key-value pairs within the dict() constructor.<br>\n",
    "3. Using a sequence of key-value tuples:<br>\n",
    "    **my_dict = dict([(key1, value1), (key2, value2), (key3, value3)])<br>**\n",
    "    This syntax creates a dictionary from a list of tuples, where each tuple contains a key-value pair.<br>\n",
    "4. Using dictionary comprehension:<br>\n",
    "    **my_dict = {key: value for key, value in iterable}<br>**\n",
    "    This syntax allows you to create a dictionary by iterating over an iterable (such as a list or tuple) and defining key-value pairs based on the elements of the iterable.<br>"
   ]
  },
  {
   "cell_type": "code",
   "execution_count": null,
   "metadata": {
    "id": "leygx81LLw3b"
   },
   "outputs": [],
   "source": [
    "# Empty dictionary using dict()\n",
    "empty_dict = dict()\n",
    "\n",
    "# Dictionary with key-value pairs using dict()\n",
    "person_dict = dict(name=\"Alice\", age=25, city=\"New York\")\n",
    "\n",
    "# Dictionary from a sequence of key-value tuples\n",
    "fruit_dict = dict([(\"apple\", 5), (\"banana\", 3), (\"orange\", 8)])\n",
    "\n",
    "# Dictionary comprehension\n",
    "numbers_dict = {x: x**2 for x in range(1, 5)}"
   ]
  },
  {
   "cell_type": "markdown",
   "metadata": {
    "id": "MmIlgiCiLw3b"
   },
   "source": [
    "__2. Accessing an element of dictionary:__ You can use assigned keys to retrieve a value from a dictionary. With .items(), you can also create a list of binary tuples of the items in the dictionary."
   ]
  },
  {
   "cell_type": "code",
   "execution_count": null,
   "metadata": {
    "id": "lkVfRVLKLw3b"
   },
   "outputs": [],
   "source": [
    "#retrieving individual element based on a key\n",
    "print ('Name:', student1['name'])\n",
    "print ('Registration ID', student1['registration_id'])\n",
    "if student1['level'] == 'BSc':\n",
    "    print ('Programme R' + student1['programme'] + (student1['year']))"
   ]
  },
  {
   "cell_type": "markdown",
   "metadata": {
    "id": "s5j-NSISLw3f"
   },
   "source": [
    "__3. Traversing a dictionary:__ You can traverse through a dictionary by using a for loop. Remember that with .items(), you would have a list of binary tuples, hence you can unpack them into 2 elements - attribute and value"
   ]
  },
  {
   "cell_type": "code",
   "execution_count": null,
   "metadata": {
    "id": "hstXRKaxLw3f"
   },
   "outputs": [],
   "source": [
    "for key,value in student1.items():\n",
    "    print(key, \":\", value)\n",
    "\n",
    "# for attribute, value in student1.items():\n",
    "#     print (attribute, ':\\t', value)"
   ]
  },
  {
   "cell_type": "markdown",
   "metadata": {
    "id": "ihTS0S0LLw3f"
   },
   "source": [
    "Here's a summary table comparing the characteristics of lists, tuples, sets, and dictionaries in Python:"
   ]
  },
  {
   "cell_type": "code",
   "execution_count": null,
   "metadata": {
    "id": "0CTBnUgYLw3f",
    "outputId": "8be8144a-1d9a-431e-eaa0-89881b080312"
   },
   "outputs": [],
   "source": [
    "from IPython.display import Image\n",
    "Image(filename='summry.png', width=500, height=300)\n",
    "\n",
    "#or use markdown ![summry.png](attachment:summry.png)"
   ]
  },
  {
   "cell_type": "markdown",
   "metadata": {
    "id": "tdfbTYO-Lw3f"
   },
   "source": [
    "**Mutable:** Indicates whether the elements or the structure of the collection can be modified after creation.<br>\n",
    "**Ordered:** Specifies if the elements in the collection have a defined order.<br>\n",
    "**Allows Duplicates:** Indicates whether the collection allows duplicate elements.<br>\n",
    "**Key-Value Pairs:** Specifies whether the collection stores elements as key-value pairs.<br>"
   ]
  },
  {
   "cell_type": "markdown",
   "metadata": {},
   "source": [
    "# Exercise"
   ]
  },
  {
   "cell_type": "code",
   "execution_count": 1,
   "metadata": {},
   "outputs": [
    {
     "name": "stdout",
     "output_type": "stream",
     "text": [
      "0\n",
      "1\n",
      "2\n",
      "3\n",
      "4\n",
      "5\n",
      "6\n",
      "7\n",
      "8\n",
      "9\n"
     ]
    }
   ],
   "source": [
    "#Write a Python script that utilizes a for loop to prompt the user for 10 values and appends each value into a list.\n",
    "values = []\n",
    "for i in range(10):\n",
    "    num = int(input(f\"Enter value {i}:\"))\n",
    "    values.append(i)"
   ]
  },
  {
   "cell_type": "code",
   "execution_count": null,
   "metadata": {},
   "outputs": [],
   "source": [
    "# Remove the value index 5 and 6\n",
    "values.pop(5)\n",
    "values.pop(6)"
   ]
  },
  {
   "cell_type": "code",
   "execution_count": null,
   "metadata": {},
   "outputs": [],
   "source": [
    "# Transform the value in the list above by multiplying the value more than 50 by 10, else multyplying the value by 2\n",
    "\n",
    "# Apply conditional multiplication\n",
    "for i in range(10):\n",
    "    if(values[i]>50):\n",
    "        values[i] *=10\n",
    "    else:\n",
    "        values[i] *=2"
   ]
  },
  {
   "cell_type": "code",
   "execution_count": null,
   "metadata": {},
   "outputs": [],
   "source": [
    "# Modifying the code above using in-line if statement \n",
    "for i in range(10):\n",
    "    values[i] = values[i] * 10 if values[i] >50 else values[i]*2"
   ]
  },
  {
   "cell_type": "markdown",
   "metadata": {},
   "source": [
    "## Try Exercise (Practical 1 Getting Started with Python (Part 1 and Part 2))"
   ]
  },
  {
   "cell_type": "code",
   "execution_count": null,
   "metadata": {},
   "outputs": [],
   "source": [
    "#Question 1\n",
    "def volume(r,h):\n",
    "    return 3.142 *r * r *h"
   ]
  },
  {
   "cell_type": "code",
   "execution_count": 5,
   "metadata": {},
   "outputs": [
    {
     "name": "stdout",
     "output_type": "stream",
     "text": [
      "Speed:721.23\n",
      "Distance:725.83\n"
     ]
    }
   ],
   "source": [
    "#Question 2\n",
    "import time\n",
    "import random\n",
    "import math\n",
    "\n",
    "start = time.time()\n",
    "\n",
    "coordinate1 = (random.randint(0,1280), random.randint(0,800))\n",
    "coordinate2 = (random.randint(0,1280), random.randint(0,800))\n",
    "time.sleep(1)\n",
    "end = time.time()\n",
    "\n",
    "def calculateMouseSpeed(coordinate1,coordinate2,start,end):\n",
    "    distance = distance = math.sqrt((coordinate2[0] - coordinate1[0])**2 + (coordinate2[1] - coordinate1[1])**2)\n",
    "    duration = end - start\n",
    "    speed = distance / duration\n",
    "    return speed,time, distance\n",
    "\n",
    "speed, time, distance = calculateMouseSpeed(coordinate1,coordinate2,start,end)\n",
    "print(f\"Speed:{format(speed,'.2f')}\\nDistance:{format(distance,'.2f')}\")\n",
    "\n"
   ]
  },
  {
   "cell_type": "code",
   "execution_count": 1,
   "metadata": {},
   "outputs": [
    {
     "name": "stdout",
     "output_type": "stream",
     "text": [
      "Coordinates List: [((362, 485), (613, 68)), ((794, 63), (35, 753)), ((1140, 74), (995, 144)), ((1187, 484), (472, 43)), ((1015, 227), (862, 248)), ((1274, 584), (1034, 711)), ((503, 646), (1015, 350)), ((209, 40), (133, 45)), ((903, 113), (48, 360)), ((1246, 318), (923, 714))]\n",
      "Total Duration: 10.082595825195312 seconds\n",
      "Estimated average mouse speed: 496.70431273083744 pixels per second\n"
     ]
    }
   ],
   "source": [
    "#Question 3\n",
    "import time\n",
    "import random\n",
    "import math\n",
    "def calculateMouseSpeed(coordinates_list, duration):\n",
    "    \"\"\"\n",
    "    Calculates the average speed of mouse movement based on a list of coordinates.\n",
    "\n",
    "    Args:\n",
    "        coordinates_list (list): A list of tuples, where each tuple contains two tuples representing\n",
    "                                  consecutive coordinates: [(first1, second1), (first2, second2), ...].\n",
    "        duration (float): The total time duration for all movements.\n",
    "\n",
    "    Returns:\n",
    "        float: The estimated average speed of the mouse movement in pixels per second.\n",
    "    \"\"\"\n",
    "    total_distance = 0\n",
    "    for first_coord, second_coord in coordinates_list:\n",
    "        distance = math.sqrt((second_coord[0] - first_coord[0])**2 + (second_coord[1] - first_coord[1])**2)\n",
    "        total_distance += distance\n",
    "\n",
    "    average_speed = total_distance / duration\n",
    "    return average_speed\n",
    "\n",
    "start_time = time.time()\n",
    "coordinates_list = []\n",
    "screen_width = 1280\n",
    "screen_height = 800\n",
    "\n",
    "for _ in range(10):\n",
    "    # Generate random coordinates for the first point\n",
    "    x1 = random.randint(0, screen_width)\n",
    "    y1 = random.randint(0, screen_height)\n",
    "    first = (x1, y1)\n",
    "\n",
    "    # Generate random coordinates for the second point\n",
    "    x2 = random.randint(0, screen_width)\n",
    "    y2 = random.randint(0, screen_height)\n",
    "    second = (x2, y2)\n",
    "\n",
    "    # Append the coordinates to the list as a tuple of tuples\n",
    "    coordinates_list.append((first, second))\n",
    "\n",
    "    # Delay for 1 second\n",
    "    time.sleep(1)\n",
    "\n",
    "# Record the end time after the loop\n",
    "end_time = time.time()\n",
    "\n",
    "# Calculate the total duration\n",
    "duration = end_time - start_time\n",
    "\n",
    "# Calculate the average mouse speed\n",
    "average_speed = calculateMouseSpeed(coordinates_list, duration)\n",
    "\n",
    "# Print the results\n",
    "print(\"Coordinates List:\", coordinates_list)\n",
    "print(\"Total Duration:\", duration, \"seconds\")\n",
    "print(\"Estimated average mouse speed:\", average_speed, \"pixels per second\")\n"
   ]
  },
  {
   "cell_type": "code",
   "execution_count": 2,
   "metadata": {},
   "outputs": [
    {
     "name": "stdout",
     "output_type": "stream",
     "text": [
      "Answer (for debugging): ['cyan', 'orange', 'orange', 'green']\n"
     ]
    }
   ],
   "source": [
    "#Question 4\n",
    "import random\n",
    "\n",
    "def mastermind(guess):\n",
    "    \"\"\"\n",
    "    Simulates the mastermind game logic, comparing a guess against a randomly generated answer.\n",
    "\n",
    "    Args:\n",
    "        guess (list): An ordered list of 4 colors, representing the player's guess.\n",
    "                       Each color must be from the CODES set.\n",
    "\n",
    "    Returns:\n",
    "        None.  Prints feedback directly to the console.\n",
    "    \"\"\"\n",
    "    CODES = ['green', 'cyan', 'red', 'purple', 'blue', 'orange']  # Use a list for ordered selection\n",
    "\n",
    "    # Generate the answer - a random ordered list of 4 colors\n",
    "    answer = random.choices(CODES, k=4)  # random.choices allows duplicates\n",
    "\n",
    "    print(f\"Answer (for debugging): {answer}\")  # REMOVE THIS LINE IN THE FINAL VERSION!\n",
    "\n",
    "    # Validate the input (guess)\n",
    "    if not isinstance(guess, list) or len(guess) != 4:\n",
    "        print(\"Invalid input: Guess must be a list of 4 colors.\")\n",
    "        return\n",
    "\n",
    "    for color in guess:\n",
    "        if color not in CODES:\n",
    "            print(f\"Invalid input:  '{color}' is not a valid color code.\")\n",
    "            return\n",
    "\n",
    "    # Compare the guess\n",
    "mastermind(['red','blue','orange','cyan'])"
   ]
  },
  {
   "cell_type": "markdown",
   "metadata": {},
   "source": [
    "# Great Job!"
   ]
  }
 ],
 "metadata": {
  "colab": {
   "provenance": []
  },
  "kernelspec": {
   "display_name": "Python 3 (ipykernel)",
   "language": "python",
   "name": "python3"
  },
  "language_info": {
   "codemirror_mode": {
    "name": "ipython",
    "version": 3
   },
   "file_extension": ".py",
   "mimetype": "text/x-python",
   "name": "python",
   "nbconvert_exporter": "python",
   "pygments_lexer": "ipython3",
   "version": "3.11.1"
  }
 },
 "nbformat": 4,
 "nbformat_minor": 4
}
